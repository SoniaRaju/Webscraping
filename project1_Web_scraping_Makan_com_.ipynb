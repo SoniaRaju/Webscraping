{
  "nbformat": 4,
  "nbformat_minor": 0,
  "metadata": {
    "colab": {
      "name": "project1 Web scraping  Makan.com .ipynb",
      "provenance": [],
      "collapsed_sections": [],
      "authorship_tag": "ABX9TyOOdMPrC52S7tBvNpTb2InK",
      "include_colab_link": true
    },
    "kernelspec": {
      "name": "python3",
      "display_name": "Python 3"
    },
    "language_info": {
      "name": "python"
    }
  },
  "cells": [
    {
      "cell_type": "markdown",
      "metadata": {
        "id": "view-in-github",
        "colab_type": "text"
      },
      "source": [
        "<a href=\"https://colab.research.google.com/github/SoniaRaju/Webscraping/blob/main/project1_Web_scraping_Makan_com_.ipynb\" target=\"_parent\"><img src=\"https://colab.research.google.com/assets/colab-badge.svg\" alt=\"Open In Colab\"/></a>"
      ]
    },
    {
      "cell_type": "markdown",
      "metadata": {
        "id": "JsTLFrP31UEe"
      },
      "source": [
        "Web scraping (or data scraping) is a technique used to collect content and data from the internet. This data is usually saved in a local file so that it can be manipulated and analyzed as needed.\n",
        "\n",
        "Objective:Scrap the data from multiple web pages of the website makan.com. \n",
        " Web scraping follows three basic principles:\n",
        "\n",
        "* Step 1: Accessing request to website\n",
        "* Step 2: Extracting and parsing (or breaking down) the website’s code\n",
        "* Step 3: Saving the relevant data in local drive as .csv file"
      ]
    },
    {
      "cell_type": "code",
      "metadata": {
        "id": "kTjVxZHh9J71"
      },
      "source": [
        "import requests\n",
        "from bs4 import BeautifulSoup\n",
        "import pandas as pd\n",
        "import time"
      ],
      "execution_count": null,
      "outputs": []
    },
    {
      "cell_type": "code",
      "metadata": {
        "id": "Evjy5wkK9QhG"
      },
      "source": [
        "url='https://www.makaan.com/hyderabad-residential-property/buy-property-in-hyderabad-city'\n",
        "req=requests.get(url)\n",
        "#req.text"
      ],
      "execution_count": null,
      "outputs": []
    },
    {
      "cell_type": "code",
      "metadata": {
        "id": "F236raYJ9oCC"
      },
      "source": [
        "soup=BeautifulSoup(req.text,'html')"
      ],
      "execution_count": null,
      "outputs": []
    },
    {
      "cell_type": "code",
      "metadata": {
        "colab": {
          "base_uri": "https://localhost:8080/"
        },
        "id": "ESQabyA8OYt_",
        "outputId": "21cf7de5-c0d1-47b4-a8c9-2c748fe7774c"
      },
      "source": [
        "item_builder=soup.find('span',attrs={'class':'seller-type'})\n",
        "print(item_builder)"
      ],
      "execution_count": null,
      "outputs": [
        {
          "output_type": "stream",
          "text": [
            "<span class=\"seller-type\">BUILDER</span>\n"
          ],
          "name": "stdout"
        }
      ]
    },
    {
      "cell_type": "code",
      "metadata": {
        "colab": {
          "base_uri": "https://localhost:8080/",
          "height": 35
        },
        "id": "OOmwjFrQP5Tt",
        "outputId": "ea40d640-ef55-47aa-f55f-7f5aed123948"
      },
      "source": [
        "item_builder.text"
      ],
      "execution_count": null,
      "outputs": [
        {
          "output_type": "execute_result",
          "data": {
            "application/vnd.google.colaboratory.intrinsic+json": {
              "type": "string"
            },
            "text/plain": [
              "'BUILDER'"
            ]
          },
          "metadata": {
            "tags": []
          },
          "execution_count": 5
        }
      ]
    },
    {
      "cell_type": "code",
      "metadata": {
        "id": "bNK0RctKP9CZ",
        "colab": {
          "base_uri": "https://localhost:8080/"
        },
        "outputId": "60227885-529c-4166-9a85-9c944f159df6"
      },
      "source": [
        "item_3=soup.find('span',attrs={'class':'val'})\n",
        "print(item_3)       # not getting o/p bcz this class has many other same attribute values. so check other hierarchies"
      ],
      "execution_count": null,
      "outputs": [
        {
          "output_type": "stream",
          "text": [
            "<span class=\"val js-tag\"></span>\n"
          ],
          "name": "stdout"
        }
      ]
    },
    {
      "cell_type": "code",
      "metadata": {
        "colab": {
          "base_uri": "https://localhost:8080/"
        },
        "id": "1Tqz7ZEnWPL0",
        "outputId": "a4a6b146-5992-4a23-c133-d6e2342d42f2"
      },
      "source": [
        "soup.find('div',attrs={'class':'title-line'})  # o/p is showing title-line class, a tag,strong and span tag before the value of class val"
      ],
      "execution_count": null,
      "outputs": [
        {
          "output_type": "execute_result",
          "data": {
            "text/plain": [
              "<div class=\"title-line \"><a class=\"typelink\" data-type=\"listing-link\" href=\"https://www.makaan.com/hyderabad/vessella-group-meadows-in-narsingi-14826366/4bhk-2929-sqft-villa\" itemprop=\"url\" target=\"_blank\"><meta content=\"4 BHK Villa for sale\" id=\"itemNameFor-14826366\" itemprop=\"name\"/><strong><span class=\"val\">4 </span><span>BHK </span><span>Villa</span></strong></a><span class=\"project-wrap\"> in <strong><a class=\"projName\" data-link-name=\"Vessella Meadows\" data-link-type=\"project overview\" data-track-label=\"14826366_1_658184_select\" data-type=\"projName\" href=\"https://www.makaan.com/hyderabad/vessella-group-meadows-in-narsingi-658184\" target=\"_blank\" title=\"Go to Vessella Meadows\"><span>Vessella Meadows</span></a></strong></span><div class=\"rera-tag-new\" title=\"Rera Approved Project\"><img alt=\"Rera Approved Project\" src=\"//static.makaan.com/images/un-versioned/rera-tag.svg\"/></div></div>"
            ]
          },
          "metadata": {
            "tags": []
          },
          "execution_count": 11
        }
      ]
    },
    {
      "cell_type": "code",
      "metadata": {
        "colab": {
          "base_uri": "https://localhost:8080/"
        },
        "id": "VTVW3tNhWPOg",
        "outputId": "ea60238d-1f73-4236-eb2f-80fe11a1e3ed"
      },
      "source": [
        "soup.find('div',attrs={'class':'title-line'}).a.strong.span"
      ],
      "execution_count": null,
      "outputs": [
        {
          "output_type": "execute_result",
          "data": {
            "text/plain": [
              "<span class=\"val\">4 </span>"
            ]
          },
          "metadata": {
            "tags": []
          },
          "execution_count": 12
        }
      ]
    },
    {
      "cell_type": "code",
      "metadata": {
        "colab": {
          "base_uri": "https://localhost:8080/"
        },
        "id": "01IuxyyyYB5d",
        "outputId": "4b0d5e41-c961-438d-e724-25e991706d49"
      },
      "source": [
        "item_3=soup.find('div',attrs={'class':'title-line'}).a.strong.span  #bhk\n",
        "print(item_3.text)"
      ],
      "execution_count": null,
      "outputs": [
        {
          "output_type": "stream",
          "text": [
            "4 \n"
          ],
          "name": "stdout"
        }
      ]
    },
    {
      "cell_type": "code",
      "metadata": {
        "colab": {
          "base_uri": "https://localhost:8080/"
        },
        "id": "hRMCO9JnZQZ1",
        "outputId": "7322e764-d7e1-49f4-e866-91159a07ad91"
      },
      "source": [
        "soup.find('span',attrs={'class':'val','itemprop':'offers'}) #class has 2 attributes val and itemprop"
      ],
      "execution_count": null,
      "outputs": [
        {
          "output_type": "execute_result",
          "data": {
            "text/plain": [
              "<span class=\"val\" itemprop=\"offers\" itemscope=\"\" itemtype=\"http://schema.org/Offer\"><meta content=\"https://www.makaan.com/hyderabad/vessella-group-meadows-in-narsingi-14826366/4bhk-2929-sqft-villa\" itemprop=\"url\"/><meta content=\"46864000 \" itemprop=\"price\"/><meta content=\"INR\" itemprop=\"priceCurrency\"/>4.68</span>"
            ]
          },
          "metadata": {
            "tags": []
          },
          "execution_count": 14
        }
      ]
    },
    {
      "cell_type": "code",
      "metadata": {
        "colab": {
          "base_uri": "https://localhost:8080/"
        },
        "id": "i1B029XqZQbh",
        "outputId": "775e055d-3591-4f67-a43d-3219adb2cd7d"
      },
      "source": [
        "item_price=soup.find('span',attrs={'class':'val','itemprop':'offers'}).text            \n",
        "print(item_price)"
      ],
      "execution_count": null,
      "outputs": [
        {
          "output_type": "stream",
          "text": [
            "4.68\n"
          ],
          "name": "stdout"
        }
      ]
    },
    {
      "cell_type": "code",
      "metadata": {
        "colab": {
          "base_uri": "https://localhost:8080/"
        },
        "id": "7HK3K7ujfIZm",
        "outputId": "0844efd3-ef45-4f25-da59-7fe92f3149bd"
      },
      "source": [
        "soup.find('div',attrs={'data-type':'price-link'})"
      ],
      "execution_count": null,
      "outputs": [
        {
          "output_type": "execute_result",
          "data": {
            "text/plain": [
              "<div data-type=\"price-link\"><sup class=\"rupee currency\"> </sup><span class=\"val\" itemprop=\"offers\" itemscope=\"\" itemtype=\"http://schema.org/Offer\"><meta content=\"https://www.makaan.com/hyderabad/vessella-group-meadows-in-narsingi-14826366/4bhk-2929-sqft-villa\" itemprop=\"url\"/><meta content=\"46864000 \" itemprop=\"price\"/><meta content=\"INR\" itemprop=\"priceCurrency\"/>4.68</span><span class=\"unit\"> Cr</span></div>"
            ]
          },
          "metadata": {
            "tags": []
          },
          "execution_count": 16
        }
      ]
    },
    {
      "cell_type": "code",
      "metadata": {
        "colab": {
          "base_uri": "https://localhost:8080/",
          "height": 35
        },
        "id": "zrJFVZQufxEM",
        "outputId": "efc70de6-3b62-48c0-f08f-51602c1389d3"
      },
      "source": [
        "soup.find('div',attrs={'data-type':'price-link'}).text      #price of apartment"
      ],
      "execution_count": null,
      "outputs": [
        {
          "output_type": "execute_result",
          "data": {
            "application/vnd.google.colaboratory.intrinsic+json": {
              "type": "string"
            },
            "text/plain": [
              "' 4.68 Cr'"
            ]
          },
          "metadata": {
            "tags": []
          },
          "execution_count": 17
        }
      ]
    },
    {
      "cell_type": "code",
      "metadata": {
        "colab": {
          "base_uri": "https://localhost:8080/"
        },
        "id": "ugDLZBV4gixC",
        "outputId": "52989788-12c8-4f39-c3eb-2d8166b3c0ad"
      },
      "source": [
        "soup.find('span',attrs={'itemprop':'addressLocality'}) #this span tag has no class"
      ],
      "execution_count": null,
      "outputs": [
        {
          "output_type": "execute_result",
          "data": {
            "text/plain": [
              "<span itemprop=\"addressLocality\"><strong>Narsingi</strong></span>"
            ]
          },
          "metadata": {
            "tags": []
          },
          "execution_count": 18
        }
      ]
    },
    {
      "cell_type": "code",
      "metadata": {
        "colab": {
          "base_uri": "https://localhost:8080/",
          "height": 35
        },
        "id": "-EAnPdSwi4c4",
        "outputId": "2aa8d66f-3a3a-497b-8a77-9ef21d367eb8"
      },
      "source": [
        "soup.find('span',attrs={'itemprop':'addressLocality'}).text  #find the location0."
      ],
      "execution_count": null,
      "outputs": [
        {
          "output_type": "execute_result",
          "data": {
            "application/vnd.google.colaboratory.intrinsic+json": {
              "type": "string"
            },
            "text/plain": [
              "'Narsingi'"
            ]
          },
          "metadata": {
            "tags": []
          },
          "execution_count": 19
        }
      ]
    },
    {
      "cell_type": "code",
      "metadata": {
        "id": "IEyKKICSuubU"
      },
      "source": [
        "soup.findAll('span',attrs={'itemprop':'addressLocality'}) #will get all the locality name in the current page"
      ],
      "execution_count": null,
      "outputs": []
    },
    {
      "cell_type": "code",
      "metadata": {
        "colab": {
          "base_uri": "https://localhost:8080/"
        },
        "id": "NILdKbqnuJpg",
        "outputId": "3dc320d7-e07d-4858-935c-7fa0ef04fd09"
      },
      "source": [
        "len(soup.findAll('span',attrs={'itemprop':'addressLocality'}))"
      ],
      "execution_count": null,
      "outputs": [
        {
          "output_type": "execute_result",
          "data": {
            "text/plain": [
              "20"
            ]
          },
          "metadata": {
            "tags": []
          },
          "execution_count": 21
        }
      ]
    },
    {
      "cell_type": "code",
      "metadata": {
        "colab": {
          "base_uri": "https://localhost:8080/"
        },
        "id": "-9I0fPv_vXn0",
        "outputId": "8dc99692-00a3-4e47-c01a-ccf529715f5f"
      },
      "source": [
        "location=soup.findAll('span',attrs={'itemprop':'addressLocality'})  #list 20 lcation name\n",
        "for i in location:\n",
        "  print(i.text)"
      ],
      "execution_count": null,
      "outputs": [
        {
          "output_type": "stream",
          "text": [
            "Narsingi\n",
            "Manikonda\n",
            "Shaikpet\n",
            "Bachupally\n",
            "Shamshabad\n",
            "Tellapur\n",
            "Attapur\n",
            "Yapral\n",
            "Sheriguda\n",
            "Manikonda\n",
            "Bachupally\n",
            "Ghatkesar\n",
            "Attapur\n",
            "Kompally\n",
            "Shankarpalli\n",
            "Hitech City\n",
            "Mallampet\n",
            "Nanakramguda\n",
            "Narsingi\n",
            "Manikonda\n"
          ],
          "name": "stdout"
        }
      ]
    },
    {
      "cell_type": "code",
      "metadata": {
        "id": "-n_uPnBlw6AP"
      },
      "source": [
        "#find area in square foot\n",
        "#soup.findAll('td',attrs={'class':'lbl'})  #lbl has many values"
      ],
      "execution_count": null,
      "outputs": []
    },
    {
      "cell_type": "code",
      "metadata": {
        "colab": {
          "base_uri": "https://localhost:8080/"
        },
        "id": "YRwPynOVx163",
        "outputId": "db55af34-eb76-45ab-ed9c-3e5c7ad517b0"
      },
      "source": [
        "soup.find('td',attrs={'class':'size'})"
      ],
      "execution_count": null,
      "outputs": [
        {
          "output_type": "execute_result",
          "data": {
            "text/plain": [
              "<td class=\"size\"><span class=\"val\">2929 </span></td>"
            ]
          },
          "metadata": {
            "tags": []
          },
          "execution_count": 25
        }
      ]
    },
    {
      "cell_type": "code",
      "metadata": {
        "colab": {
          "base_uri": "https://localhost:8080/",
          "height": 35
        },
        "id": "jMrQ_KMSyAhP",
        "outputId": "acbc19df-4960-4f4d-b202-f8dd423ea492"
      },
      "source": [
        "soup.find('td',attrs={'class':'size'}).text    #find the sq.feet"
      ],
      "execution_count": null,
      "outputs": [
        {
          "output_type": "execute_result",
          "data": {
            "application/vnd.google.colaboratory.intrinsic+json": {
              "type": "string"
            },
            "text/plain": [
              "'2929 '"
            ]
          },
          "metadata": {
            "tags": []
          },
          "execution_count": 26
        }
      ]
    },
    {
      "cell_type": "code",
      "metadata": {
        "colab": {
          "base_uri": "https://localhost:8080/"
        },
        "id": "UT44oakiyYsc",
        "outputId": "a01c0257-352d-492a-daf8-5a95a08257e9"
      },
      "source": [
        "#construction status\n",
        "soup.find('td',attrs={'class':'val'})"
      ],
      "execution_count": null,
      "outputs": [
        {
          "output_type": "execute_result",
          "data": {
            "text/plain": [
              "<td class=\"val\">Under Construction</td>"
            ]
          },
          "metadata": {
            "tags": []
          },
          "execution_count": 27
        }
      ]
    },
    {
      "cell_type": "code",
      "metadata": {
        "colab": {
          "base_uri": "https://localhost:8080/",
          "height": 35
        },
        "id": "XpkG1gIvzqRN",
        "outputId": "01d6f96e-5e48-4e28-915c-4a2134b20f82"
      },
      "source": [
        "soup.find('td',attrs={'class':'val'}).text     #get the o/p "
      ],
      "execution_count": null,
      "outputs": [
        {
          "output_type": "execute_result",
          "data": {
            "application/vnd.google.colaboratory.intrinsic+json": {
              "type": "string"
            },
            "text/plain": [
              "'Under Construction'"
            ]
          },
          "metadata": {
            "tags": []
          },
          "execution_count": 28
        }
      ]
    },
    {
      "cell_type": "code",
      "metadata": {
        "colab": {
          "base_uri": "https://localhost:8080/"
        },
        "id": "3IylIRFK0Uhh",
        "outputId": "57c1ed30-cd73-431d-be97-0a2649a0ee39"
      },
      "source": [
        "soup.find('td',attrs={'class':'lbl rate'})"
      ],
      "execution_count": null,
      "outputs": [
        {
          "output_type": "execute_result",
          "data": {
            "text/plain": [
              "<td class=\"lbl rate\">16,000 / sq ft</td>"
            ]
          },
          "metadata": {
            "tags": []
          },
          "execution_count": 29
        }
      ]
    },
    {
      "cell_type": "code",
      "metadata": {
        "colab": {
          "base_uri": "https://localhost:8080/",
          "height": 35
        },
        "id": "6RKxZMjRzqTE",
        "outputId": "7586dcc2-6ac6-4cef-9567-fa7accab497e"
      },
      "source": [
        "soup.find('td',attrs={'class':'lbl rate'}).text"
      ],
      "execution_count": null,
      "outputs": [
        {
          "output_type": "execute_result",
          "data": {
            "application/vnd.google.colaboratory.intrinsic+json": {
              "type": "string"
            },
            "text/plain": [
              "'16,000 / sq ft'"
            ]
          },
          "metadata": {
            "tags": []
          },
          "execution_count": 30
        }
      ]
    },
    {
      "cell_type": "code",
      "metadata": {
        "id": "AHWgbS4F1Bgb"
      },
      "source": [
        "soup.findAll('span',attrs={'class':'seller-type'})"
      ],
      "execution_count": null,
      "outputs": []
    },
    {
      "cell_type": "code",
      "metadata": {
        "colab": {
          "base_uri": "https://localhost:8080/"
        },
        "id": "DVl4P_S_1Hpj",
        "outputId": "d20b3883-9a42-433c-f249-ac25e5fc7969"
      },
      "source": [
        "len(soup.findAll('span',attrs={'class':'seller-type'}))"
      ],
      "execution_count": null,
      "outputs": [
        {
          "output_type": "execute_result",
          "data": {
            "text/plain": [
              "20"
            ]
          },
          "metadata": {
            "tags": []
          },
          "execution_count": 28
        }
      ]
    },
    {
      "cell_type": "code",
      "metadata": {
        "id": "FDUFojJz1XkX"
      },
      "source": [
        "owner=soup.findAll('span',attrs={'class':'seller-type'})  # will get the all the 20 nbuilder list\n",
        "for i in owner:\n",
        "  print(i.text)"
      ],
      "execution_count": null,
      "outputs": []
    },
    {
      "cell_type": "code",
      "metadata": {
        "id": "EvTyrxeJ12KD"
      },
      "source": [
        "owner=soup.findAll('span',attrs={'class':'seller-type'})  #another method\n",
        "own_info=[]\n",
        "for i in owner:\n",
        "  own_info.append(i.text)"
      ],
      "execution_count": null,
      "outputs": []
    },
    {
      "cell_type": "code",
      "metadata": {
        "id": "ZNdwDEVA4N51"
      },
      "source": [
        "own_info"
      ],
      "execution_count": null,
      "outputs": []
    },
    {
      "cell_type": "code",
      "metadata": {
        "id": "U9itr5oI4cxu"
      },
      "source": [
        "owner_info=[i.text for i in owner]  #list comprehension third method"
      ],
      "execution_count": null,
      "outputs": []
    },
    {
      "cell_type": "code",
      "metadata": {
        "id": "k85gOe7y5dFo"
      },
      "source": [
        "owner_info"
      ],
      "execution_count": null,
      "outputs": []
    },
    {
      "cell_type": "code",
      "metadata": {
        "id": "I7CkJbAe6HCv"
      },
      "source": [
        "bhk_info=soup.findAll('div',attrs={'class':'title-line'})\n",
        "#bhk_info"
      ],
      "execution_count": null,
      "outputs": []
    },
    {
      "cell_type": "code",
      "metadata": {
        "id": "_ydOFOLn62bn"
      },
      "source": [
        "[i.strong.span.text for i in bhk_info]"
      ],
      "execution_count": null,
      "outputs": []
    },
    {
      "cell_type": "markdown",
      "metadata": {
        "id": "oldguJwF8J0X"
      },
      "source": [
        " display first page or 20 text details"
      ]
    },
    {
      "cell_type": "code",
      "metadata": {
        "id": "hsax2HVN8HrK",
        "colab": {
          "base_uri": "https://localhost:8080/"
        },
        "outputId": "90b6f45f-a32c-46c9-bd76-ae1bcd3023ac"
      },
      "source": [
        "location=soup.findAll('span',attrs={'itemprop':'addressLocality'})\n",
        "Locality_info=[i.text for i in location]\n",
        "Locality_info"
      ],
      "execution_count": null,
      "outputs": [
        {
          "output_type": "execute_result",
          "data": {
            "text/plain": [
              "['Narsingi',\n",
              " 'Manikonda',\n",
              " 'Shaikpet',\n",
              " 'Bachupally',\n",
              " 'Shamshabad',\n",
              " 'Tellapur',\n",
              " 'Attapur',\n",
              " 'Yapral',\n",
              " 'Sheriguda',\n",
              " 'Manikonda',\n",
              " 'Bachupally',\n",
              " 'Ghatkesar',\n",
              " 'Attapur',\n",
              " 'Kompally',\n",
              " 'Shankarpalli',\n",
              " 'Hitech City',\n",
              " 'Mallampet',\n",
              " 'Nanakramguda',\n",
              " 'Narsingi',\n",
              " 'Manikonda']"
            ]
          },
          "metadata": {
            "tags": []
          },
          "execution_count": 41
        }
      ]
    },
    {
      "cell_type": "code",
      "metadata": {
        "id": "iN93ZmFZ75GX"
      },
      "source": [
        "price=soup.findAll('div',attrs={'data-type':'price-link'})  \n",
        "price_info=soup.find('td',attrs={'class':'val'}).text"
      ],
      "execution_count": null,
      "outputs": []
    },
    {
      "cell_type": "code",
      "metadata": {
        "id": "W081UDrf8VUt"
      },
      "source": [
        "Squarefeet=soup.findAll('td',attrs={'class':'size'}) \n",
        "Sqfeet_info=[i.text.strip() for i in Squarefeet] #.strip removes the white space\n",
        "Sqfeet_info"
      ],
      "execution_count": null,
      "outputs": []
    },
    {
      "cell_type": "code",
      "metadata": {
        "id": "vXR1GOrw8rjc",
        "colab": {
          "base_uri": "https://localhost:8080/"
        },
        "outputId": "40284f43-be48-4532-9f7a-45863b50c6a1"
      },
      "source": [
        "bhk=[i.strong.span.text for i in bhk_info]\n",
        "bhk"
      ],
      "execution_count": null,
      "outputs": [
        {
          "output_type": "execute_result",
          "data": {
            "text/plain": [
              "['4 ',\n",
              " '3 ',\n",
              " '2 ',\n",
              " '2 ',\n",
              " '2 ',\n",
              " '3 ',\n",
              " '3 ',\n",
              " '3 ',\n",
              " 'Residential Plot',\n",
              " '3 ',\n",
              " '4 ',\n",
              " '2 ',\n",
              " '2 ',\n",
              " '2 ',\n",
              " '3 ',\n",
              " '4 ',\n",
              " '3 ',\n",
              " '3 ',\n",
              " '5 ',\n",
              " '3 ']"
            ]
          },
          "metadata": {
            "tags": []
          },
          "execution_count": 50
        }
      ]
    },
    {
      "cell_type": "code",
      "metadata": {
        "id": "j4crYC-y_rn5",
        "colab": {
          "base_uri": "https://localhost:8080/"
        },
        "outputId": "53e0c82e-c147-426c-8ee6-b67c90cbd3b5"
      },
      "source": [
        "Construction=soup.findAll('td',attrs={'class':'val'})#construction info\n",
        "Con_info=[i.text for i in Construction]\n",
        "Con_info"
      ],
      "execution_count": null,
      "outputs": [
        {
          "output_type": "execute_result",
          "data": {
            "text/plain": [
              "['Under Construction',\n",
              " 'Under Construction',\n",
              " 'Ready to move',\n",
              " 'Under Construction',\n",
              " 'Under Construction',\n",
              " 'Under Construction',\n",
              " 'Under Construction',\n",
              " 'Under Construction',\n",
              " 'New',\n",
              " 'Under Construction',\n",
              " 'Under Construction',\n",
              " 'Under Construction',\n",
              " 'Under Construction',\n",
              " 'Under Construction',\n",
              " 'Under Construction',\n",
              " 'Ready to move',\n",
              " 'Under Construction',\n",
              " 'Ready to move',\n",
              " 'Under Construction',\n",
              " 'Under Construction']"
            ]
          },
          "metadata": {
            "tags": []
          },
          "execution_count": 44
        }
      ]
    },
    {
      "cell_type": "code",
      "metadata": {
        "id": "HWdto3TGAeGR"
      },
      "source": [
        "owner= soup.findAll('span',attrs={'class':'seller-type'})  \n",
        "owner_info=[i.text for i in owner]"
      ],
      "execution_count": null,
      "outputs": []
    },
    {
      "cell_type": "code",
      "metadata": {
        "id": "mVBTWKdjAtv-"
      },
      "source": [
        "Price_per_feet=soup.findAll('td',attrs={'class':'lbl rate'})\n",
        "P_feet=[i.text for i in Price_per_feet]\n",
        "P_feet"
      ],
      "execution_count": null,
      "outputs": []
    },
    {
      "cell_type": "code",
      "metadata": {
        "id": "4CuK_esgCobl",
        "colab": {
          "base_uri": "https://localhost:8080/"
        },
        "outputId": "29e6e418-bfdb-4465-f3fe-04cc1a066f78"
      },
      "source": [
        "print(len(Price_per_feet))\n",
        "print(len(P_feet))"
      ],
      "execution_count": null,
      "outputs": [
        {
          "output_type": "stream",
          "text": [
            "20\n",
            "20\n"
          ],
          "name": "stdout"
        }
      ]
    },
    {
      "cell_type": "code",
      "metadata": {
        "id": "8sDJbyYsDCpK"
      },
      "source": [
        "data=pd.DataFrame({'owner':owner_info, \n",
        "              'bhk_info':bhk,\n",
        "              'price':price_info,\n",
        "             'Squarefeet':Sqfeet_info,\n",
        "              'Construction':Con_info,\n",
        "              'Price_per_feet':P_feet})"
      ],
      "execution_count": null,
      "outputs": []
    },
    {
      "cell_type": "code",
      "metadata": {
        "id": "FueI_YCwG_vj",
        "colab": {
          "base_uri": "https://localhost:8080/"
        },
        "outputId": "46ff7e8e-5eb1-4d5d-8ec9-5a5ddc051a76"
      },
      "source": [
        "print(data)"
      ],
      "execution_count": null,
      "outputs": [
        {
          "output_type": "stream",
          "text": [
            "      owner          bhk_info  ...        Construction  Price_per_feet\n",
            "0   BUILDER                4   ...  Under Construction  16,000 / sq ft\n",
            "1   BUILDER                3   ...  Under Construction   5,699 / sq ft\n",
            "2   BUILDER                2   ...       Ready to move   9,565 / sq ft\n",
            "3   BUILDER                2   ...  Under Construction   4,400 / sq ft\n",
            "4   BUILDER                2   ...  Under Construction   4,899 / sq ft\n",
            "5   BUILDER                3   ...  Under Construction   4,600 / sq ft\n",
            "6   BUILDER                3   ...  Under Construction   6,501 / sq ft\n",
            "7   BUILDER                3   ...  Under Construction   5,400 / sq ft\n",
            "8   BUILDER  Residential Plot  ...                 New   3,555 / sq ft\n",
            "9   BUILDER                3   ...  Under Construction   6,200 / sq ft\n",
            "10  BUILDER                4   ...  Under Construction   6,304 / sq ft\n",
            "11  BUILDER                2   ...  Under Construction   4,500 / sq ft\n",
            "12  BUILDER                2   ...  Under Construction   5,500 / sq ft\n",
            "13  BUILDER                2   ...  Under Construction   4,700 / sq ft\n",
            "14  BUILDER                3   ...  Under Construction   4,700 / sq ft\n",
            "15  BUILDER                4   ...       Ready to move   8,290 / sq ft\n",
            "16  BUILDER                3   ...  Under Construction   4,199 / sq ft\n",
            "17  BUILDER                3   ...       Ready to move   6,800 / sq ft\n",
            "18  BUILDER                5   ...  Under Construction  16,000 / sq ft\n",
            "19  BUILDER                3   ...  Under Construction   5,699 / sq ft\n",
            "\n",
            "[20 rows x 6 columns]\n"
          ],
          "name": "stdout"
        }
      ]
    },
    {
      "cell_type": "code",
      "metadata": {
        "id": "VTV5K7M6GMj4"
      },
      "source": [
        "data.to_csv('Apartment_data.csv')   #converts it in to csv file"
      ],
      "execution_count": null,
      "outputs": []
    },
    {
      "cell_type": "code",
      "metadata": {
        "id": "ejQ5zREtID9l"
      },
      "source": [
        "data.to_csv('Apartment_data.csv',index=False)   #if you dont want index\n"
      ],
      "execution_count": null,
      "outputs": []
    },
    {
      "cell_type": "markdown",
      "metadata": {
        "id": "To5YQrXCJJ_4"
      },
      "source": [
        "\n",
        "'https://www.makaan.com/hyderabad-residential-property/buy-property-in-hyderabad-city'\n",
        "\n",
        "```\n",
        "# This is formatted as code\n",
        "```\n",
        "\n"
      ]
    },
    {
      "cell_type": "code",
      "metadata": {
        "id": "SQzQE-jWJGnt",
        "colab": {
          "base_uri": "https://localhost:8080/",
          "height": 35
        },
        "outputId": "7a0a6482-ccab-4246-a6d1-a25e06811a10"
      },
      "source": [
        "'https://www.makaan.com/hyderabad-residential-property/buy-property-in-hyderabad-city'\n",
        "\n",
        "\n",
        "'https://www.makaan.com/hyderabad-residential-property/buy-property-in-hyderabad-city?_=1624540184551'\n",
        "\n",
        "'https://www.makaan.com/hyderabad-residential-property/buy-property-in-hyderabad-city?_=1624540261767&page=3'\n",
        "'https://www.makaan.com/hyderabad-residential-property/buy-property-in-hyderabad-city?_=1624540261767&page=4'"
      ],
      "execution_count": null,
      "outputs": [
        {
          "output_type": "execute_result",
          "data": {
            "application/vnd.google.colaboratory.intrinsic+json": {
              "type": "string"
            },
            "text/plain": [
              "'https://www.makaan.com/hyderabad-residential-property/buy-property-in-hyderabad-city?_=1624540261767&page=4'"
            ]
          },
          "metadata": {
            "tags": []
          },
          "execution_count": 46
        }
      ]
    },
    {
      "cell_type": "code",
      "metadata": {
        "colab": {
          "base_uri": "https://localhost:8080/"
        },
        "id": "f7geWnhBKXPe",
        "outputId": "1378f6a0-7ff2-45af-eba0-f11b3cfbaa98"
      },
      "source": [
        "baseurl='https://www.makaan.com/hyderabad-residential-property/buy-property-in-hyderabad-city?_=1624540261767&page='\n",
        "for i in range(1,11):\n",
        "  print(baseurl+str(i)+'&=1624540184551')"
      ],
      "execution_count": null,
      "outputs": [
        {
          "output_type": "stream",
          "text": [
            "https://www.makaan.com/hyderabad-residential-property/buy-property-in-hyderabad-city?_=1624540261767&page=1&=1624540184551\n",
            "https://www.makaan.com/hyderabad-residential-property/buy-property-in-hyderabad-city?_=1624540261767&page=2&=1624540184551\n",
            "https://www.makaan.com/hyderabad-residential-property/buy-property-in-hyderabad-city?_=1624540261767&page=3&=1624540184551\n",
            "https://www.makaan.com/hyderabad-residential-property/buy-property-in-hyderabad-city?_=1624540261767&page=4&=1624540184551\n",
            "https://www.makaan.com/hyderabad-residential-property/buy-property-in-hyderabad-city?_=1624540261767&page=5&=1624540184551\n",
            "https://www.makaan.com/hyderabad-residential-property/buy-property-in-hyderabad-city?_=1624540261767&page=6&=1624540184551\n",
            "https://www.makaan.com/hyderabad-residential-property/buy-property-in-hyderabad-city?_=1624540261767&page=7&=1624540184551\n",
            "https://www.makaan.com/hyderabad-residential-property/buy-property-in-hyderabad-city?_=1624540261767&page=8&=1624540184551\n",
            "https://www.makaan.com/hyderabad-residential-property/buy-property-in-hyderabad-city?_=1624540261767&page=9&=1624540184551\n",
            "https://www.makaan.com/hyderabad-residential-property/buy-property-in-hyderabad-city?_=1624540261767&page=10&=1624540184551\n"
          ],
          "name": "stdout"
        }
      ]
    },
    {
      "cell_type": "code",
      "metadata": {
        "colab": {
          "base_uri": "https://localhost:8080/"
        },
        "id": "AwPpJCglLlBT",
        "outputId": "c508a672-6d5d-4dd4-aeea-0c91154940aa"
      },
      "source": [
        "baseurl='https://www.makaan.com/hyderabad-residential-property/buy-property-in-hyderabad-city?_=1624540261767&page='\n",
        "for i in range(1,3):\n",
        "  print(baseurl+str(i)+'&=1624540184551')\n",
        "  req=requests.get(url)\n",
        "  soup=BeautifulSoup(req.text,'html')\n",
        "  owner_information=soup.findAll('span',attrs={'class':'seller-type'}) \n",
        "  #print(owner_information)  #will get the o/p as list \n",
        "  ownerinfo_all=[i.text for i in owner_information]  # will get page wise all the 20 owner info in the form of text\n",
        "  print(ownerinfo_all)\n"
      ],
      "execution_count": null,
      "outputs": [
        {
          "output_type": "stream",
          "text": [
            "https://www.makaan.com/hyderabad-residential-property/buy-property-in-hyderabad-city?_=1624540261767&page=1&=1624540184551\n",
            "['BUILDER', 'BUILDER', 'BUILDER', 'BUILDER', 'BUILDER', 'BUILDER', 'BUILDER', 'BUILDER', 'BUILDER', 'BUILDER', 'BUILDER', 'BUILDER', 'BUILDER', 'BUILDER', 'BUILDER', 'BUILDER', 'BUILDER', 'BUILDER', 'BUILDER', 'BUILDER']\n",
            "https://www.makaan.com/hyderabad-residential-property/buy-property-in-hyderabad-city?_=1624540261767&page=2&=1624540184551\n",
            "['BUILDER', 'BUILDER', 'BUILDER', 'BUILDER', 'BUILDER', 'BUILDER', 'BUILDER', 'BUILDER', 'BUILDER', 'BUILDER', 'BUILDER', 'BUILDER', 'BUILDER', 'BUILDER', 'BUILDER', 'BUILDER', 'BUILDER', 'BUILDER', 'BUILDER', 'BUILDER']\n"
          ],
          "name": "stdout"
        }
      ]
    },
    {
      "cell_type": "code",
      "metadata": {
        "id": "fjwCOO3gV5vf"
      },
      "source": [
        ""
      ],
      "execution_count": null,
      "outputs": []
    },
    {
      "cell_type": "code",
      "metadata": {
        "id": "5velECtE4HqY"
      },
      "source": [
        "baseurl='https://www.makaan.com/hyderabad-residential-property/buy-property-in-hyderabad-city?_=1624540261767&page='\n",
        "store_ownerinfo=[] # this list is going to store all the pages owner info\n",
        "for i in range(1,4):\n",
        " # print(baseurl+str(i)+'&=1624540184551')\n",
        "  req=requests.get(url)\n",
        "  soup=BeautifulSoup(req.text,'html')\n",
        "  owner_information=soup.findAll('span',attrs={'class':'seller-type'}) \n",
        "  #print(owner_information)  #will get the o/p as list \n",
        "  ownerinfo_currentpage=[i.text for i in owner_information]  # will get text values in page wise all the 20 owners info of the current page and display in single row\n",
        "  #print(ownerinfo_currentpage) #print 3 pages text values.\n",
        "  for j in ownerinfo_currentpage:   # Loop iterates 20 times update 20 BUILDER (ie,first page owner values) names in the list ,  loop21-30 update values of second page and so on\n",
        "    store_ownerinfo.append(j)\n",
        "    #print( i,store_ownerinfo )  #j has the text value BUILDER"
      ],
      "execution_count": null,
      "outputs": []
    },
    {
      "cell_type": "code",
      "metadata": {
        "colab": {
          "base_uri": "https://localhost:8080/"
        },
        "id": "YQOXWR-m6aSL",
        "outputId": "8875e5ed-8df5-41c8-efe4-4376190f8ce2"
      },
      "source": [
        "len(store_ownerinfo)"
      ],
      "execution_count": null,
      "outputs": [
        {
          "output_type": "execute_result",
          "data": {
            "text/plain": [
              "60"
            ]
          },
          "metadata": {
            "tags": []
          },
          "execution_count": 49
        }
      ]
    },
    {
      "cell_type": "code",
      "metadata": {
        "id": "kPblbBkY6jSE"
      },
      "source": [
        "store_ownerinfo"
      ],
      "execution_count": null,
      "outputs": []
    },
    {
      "cell_type": "code",
      "metadata": {
        "colab": {
          "base_uri": "https://localhost:8080/"
        },
        "id": "FaOC4_rtCT3K",
        "outputId": "663718cc-a297-4cc8-c555-76b834e3c8ac"
      },
      "source": [
        "  print(len(no_bhk))"
      ],
      "execution_count": null,
      "outputs": [
        {
          "output_type": "stream",
          "text": [
            "40\n"
          ],
          "name": "stdout"
        }
      ]
    },
    {
      "cell_type": "code",
      "metadata": {
        "id": "Gequ0d6mCN0_"
      },
      "source": [
        "# import time module to pause the downloading time\n",
        "import time\n",
        "import requests\n",
        "#display bhk details of given pages\n",
        "baseurl='https://www.makaan.com/hyderabad-residential-property/buy-property-in-hyderabad-city?_=1624540261767&page='\n",
        "store_ownerinfo=[] \n",
        "no_bhk=[]\n",
        "for i in range(1,21):\n",
        "  time.sleep(3)\n",
        " # print(baseurl+str(i)+'&=1624540184551')\n",
        "  req=requests.get(url)\n",
        "  soup=BeautifulSoup(req.text,'html')\n",
        "  owner_information=soup.findAll('span',attrs={'class':'seller-type'}) \n",
        "  #print(owner_information)  #will get the o/p as list \n",
        "  ownerinfo_currentpage=[i.text for i in owner_information]  # will get page wise all the 20 owners info in the current page and display in single row\n",
        "  #print(ownerinfo_currentpage) #print 3 pages text values.\n",
        "  for j in ownerinfo_currentpage:   # Loop iterates 20 times update 20 BUILDER (ie,first page owner values) names in the list ,  loop21-30 update values of second page and so on\n",
        "    store_ownerinfo.append(j)\n",
        "    #print( i,store_ownerinfo )  #j has the text value BUILDER\n",
        "  bhk_info=soup.findAll('div',attrs={'class':'title-line'})      #bhk_info\n",
        "  for j in bhk_info:   # Loop iterates 20 times update 20 BUILDER (ie,first page owner values) names in the list ,  loop21-30 update values of second page and so on\n",
        "    no_bhk.append(j.strong.span.text)\n",
        "\n",
        "\n"
      ],
      "execution_count": null,
      "outputs": []
    },
    {
      "cell_type": "code",
      "metadata": {
        "colab": {
          "base_uri": "https://localhost:8080/",
          "height": 406
        },
        "id": "slFVrMFdCOx6",
        "outputId": "c4910cf6-2236-4612-81f9-cb65e82d0e78"
      },
      "source": [
        "data=pd.DataFrame({'Owner_Info': store_ownerinfo, \n",
        "              'Number_of_BHK':no_bhk})\n",
        "data"
      ],
      "execution_count": null,
      "outputs": [
        {
          "output_type": "execute_result",
          "data": {
            "text/html": [
              "<div>\n",
              "<style scoped>\n",
              "    .dataframe tbody tr th:only-of-type {\n",
              "        vertical-align: middle;\n",
              "    }\n",
              "\n",
              "    .dataframe tbody tr th {\n",
              "        vertical-align: top;\n",
              "    }\n",
              "\n",
              "    .dataframe thead th {\n",
              "        text-align: right;\n",
              "    }\n",
              "</style>\n",
              "<table border=\"1\" class=\"dataframe\">\n",
              "  <thead>\n",
              "    <tr style=\"text-align: right;\">\n",
              "      <th></th>\n",
              "      <th>Owner_Info</th>\n",
              "      <th>Number_of_BHK</th>\n",
              "    </tr>\n",
              "  </thead>\n",
              "  <tbody>\n",
              "    <tr>\n",
              "      <th>0</th>\n",
              "      <td>BUILDER</td>\n",
              "      <td>4</td>\n",
              "    </tr>\n",
              "    <tr>\n",
              "      <th>1</th>\n",
              "      <td>BUILDER</td>\n",
              "      <td>3</td>\n",
              "    </tr>\n",
              "    <tr>\n",
              "      <th>2</th>\n",
              "      <td>BUILDER</td>\n",
              "      <td>2</td>\n",
              "    </tr>\n",
              "    <tr>\n",
              "      <th>3</th>\n",
              "      <td>BUILDER</td>\n",
              "      <td>2</td>\n",
              "    </tr>\n",
              "    <tr>\n",
              "      <th>4</th>\n",
              "      <td>BUILDER</td>\n",
              "      <td>2</td>\n",
              "    </tr>\n",
              "    <tr>\n",
              "      <th>...</th>\n",
              "      <td>...</td>\n",
              "      <td>...</td>\n",
              "    </tr>\n",
              "    <tr>\n",
              "      <th>395</th>\n",
              "      <td>BUILDER</td>\n",
              "      <td>3</td>\n",
              "    </tr>\n",
              "    <tr>\n",
              "      <th>396</th>\n",
              "      <td>BUILDER</td>\n",
              "      <td>4</td>\n",
              "    </tr>\n",
              "    <tr>\n",
              "      <th>397</th>\n",
              "      <td>BUILDER</td>\n",
              "      <td>3</td>\n",
              "    </tr>\n",
              "    <tr>\n",
              "      <th>398</th>\n",
              "      <td>BUILDER</td>\n",
              "      <td>5</td>\n",
              "    </tr>\n",
              "    <tr>\n",
              "      <th>399</th>\n",
              "      <td>BUILDER</td>\n",
              "      <td>3</td>\n",
              "    </tr>\n",
              "  </tbody>\n",
              "</table>\n",
              "<p>400 rows × 2 columns</p>\n",
              "</div>"
            ],
            "text/plain": [
              "    Owner_Info Number_of_BHK\n",
              "0      BUILDER            4 \n",
              "1      BUILDER            3 \n",
              "2      BUILDER            2 \n",
              "3      BUILDER            2 \n",
              "4      BUILDER            2 \n",
              "..         ...           ...\n",
              "395    BUILDER            3 \n",
              "396    BUILDER            4 \n",
              "397    BUILDER            3 \n",
              "398    BUILDER            5 \n",
              "399    BUILDER            3 \n",
              "\n",
              "[400 rows x 2 columns]"
            ]
          },
          "metadata": {
            "tags": []
          },
          "execution_count": 63
        }
      ]
    },
    {
      "cell_type": "code",
      "metadata": {
        "id": "AqlsQsm-okRt"
      },
      "source": [
        "data.to_csv('Page20_data.csv',index=False)"
      ],
      "execution_count": null,
      "outputs": []
    }
  ]
}