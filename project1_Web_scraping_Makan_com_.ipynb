{
  "nbformat": 4,
  "nbformat_minor": 0,
  "metadata": {
    "colab": {
      "name": "project1 Web scraping  Makan.com .ipynb",
      "provenance": [],
      "collapsed_sections": [],
      "authorship_tag": "ABX9TyOyq+3qBhfmV9J7/+lc+ait",
      "include_colab_link": true
    },
    "kernelspec": {
      "name": "python3",
      "display_name": "Python 3"
    },
    "language_info": {
      "name": "python"
    }
  },
  "cells": [
    {
      "cell_type": "markdown",
      "metadata": {
        "id": "view-in-github",
        "colab_type": "text"
      },
      "source": [
        "<a href=\"https://colab.research.google.com/github/SoniaRaju/Webscraping/blob/main/project1_Web_scraping_Makan_com_.ipynb\" target=\"_parent\"><img src=\"https://colab.research.google.com/assets/colab-badge.svg\" alt=\"Open In Colab\"/></a>"
      ]
    },
    {
      "cell_type": "markdown",
      "metadata": {
        "id": "JsTLFrP31UEe"
      },
      "source": [
        "Web scraping (or data scraping) is a technique used to collect content and data from the internet. This data is usually saved in a local file so that it can be manipulated and analyzed as needed.\n",
        "\n",
        "Objective:Scrap the data from multiple web pages of the website makan.com. \n",
        " Web scraping follows three basic principles:\n",
        "\n",
        "* Step 1: Accessing request to website\n",
        "* Step 2: Extracting and parsing (or breaking down) the website’s code\n",
        "* Step 3: Saving the relevant data in local drive as .csv file"
      ]
    },
    {
      "cell_type": "code",
      "metadata": {
        "id": "kTjVxZHh9J71"
      },
      "source": [
        "import requests\n",
        "from bs4 import BeautifulSoup\n",
        "import pandas as pd\n",
        "import time"
      ],
      "execution_count": null,
      "outputs": []
    },
    {
      "cell_type": "code",
      "metadata": {
        "id": "Evjy5wkK9QhG"
      },
      "source": [
        "url='https://www.makaan.com/hyderabad-residential-property/buy-property-in-hyderabad-city'\n",
        "req=requests.get(url)\n",
        "#req.text"
      ],
      "execution_count": null,
      "outputs": []
    },
    {
      "cell_type": "code",
      "metadata": {
        "id": "F236raYJ9oCC"
      },
      "source": [
        "soup=BeautifulSoup(req.text,'html')"
      ],
      "execution_count": null,
      "outputs": []
    },
    {
      "cell_type": "code",
      "metadata": {
        "colab": {
          "base_uri": "https://localhost:8080/"
        },
        "id": "ESQabyA8OYt_",
        "outputId": "79588b5e-9e2c-442c-9904-1797a364d16c"
      },
      "source": [
        "item_builder=soup.find('span',attrs={'class':'seller-type'})\n",
        "print(item_builder)"
      ],
      "execution_count": null,
      "outputs": [
        {
          "output_type": "stream",
          "text": [
            "<span class=\"seller-type\">BUILDER</span>\n"
          ],
          "name": "stdout"
        }
      ]
    },
    {
      "cell_type": "code",
      "metadata": {
        "colab": {
          "base_uri": "https://localhost:8080/",
          "height": 35
        },
        "id": "OOmwjFrQP5Tt",
        "outputId": "aea8e69e-f243-446b-cbad-e2218cedc10b"
      },
      "source": [
        "item_builder.text"
      ],
      "execution_count": null,
      "outputs": [
        {
          "output_type": "execute_result",
          "data": {
            "application/vnd.google.colaboratory.intrinsic+json": {
              "type": "string"
            },
            "text/plain": [
              "'BUILDER'"
            ]
          },
          "metadata": {
            "tags": []
          },
          "execution_count": 84
        }
      ]
    },
    {
      "cell_type": "code",
      "metadata": {
        "id": "bNK0RctKP9CZ",
        "colab": {
          "base_uri": "https://localhost:8080/"
        },
        "outputId": "29e6fda4-cb54-418a-af04-1a90d3a12688"
      },
      "source": [
        "item_3=soup.find('span',attrs={'class':'val'})\n",
        "print(item_3)       # not getting o/p bcz this class has many other same attribute values. so check other hierarchies"
      ],
      "execution_count": null,
      "outputs": [
        {
          "output_type": "stream",
          "text": [
            "<span class=\"val js-tag\"></span>\n"
          ],
          "name": "stdout"
        }
      ]
    },
    {
      "cell_type": "code",
      "metadata": {
        "colab": {
          "base_uri": "https://localhost:8080/"
        },
        "id": "1Tqz7ZEnWPL0",
        "outputId": "71374dad-816e-4ade-87e3-496e25d86db8"
      },
      "source": [
        "soup.find('div',attrs={'class':'title-line'})  # o/p is showing title-line class, a tag,strong and span tag before the value of class val"
      ],
      "execution_count": null,
      "outputs": [
        {
          "output_type": "execute_result",
          "data": {
            "text/plain": [
              "<div class=\"title-line \"><a class=\"typelink\" data-type=\"listing-link\" href=\"https://www.makaan.com/hyderabad/vessella-group-woods-in-serilingampally-14828424/4bhk-3693-sqft-villa\" itemprop=\"url\" target=\"_blank\"><meta content=\"4 BHK Villa for sale\" id=\"itemNameFor-14828424\" itemprop=\"name\"/><strong><span class=\"val\">4 </span><span>BHK </span><span>Villa</span></strong></a><span class=\"project-wrap\"> in <strong><a class=\"projName\" data-link-name=\"Vessella Woods\" data-link-type=\"project overview\" data-track-label=\"14828424_1_1584869_select\" data-type=\"projName\" href=\"https://www.makaan.com/hyderabad/vessella-group-woods-in-serilingampally-1584869\" target=\"_blank\" title=\"Go to Vessella Woods\"><span>Vessella Woods</span></a></strong></span><div class=\"rera-tag-new\" title=\"Rera Approved Project\"><img alt=\"Rera Approved Project\" src=\"//static.makaan.com/images/un-versioned/rera-tag.svg\"/></div></div>"
            ]
          },
          "metadata": {
            "tags": []
          },
          "execution_count": 86
        }
      ]
    },
    {
      "cell_type": "code",
      "metadata": {
        "colab": {
          "base_uri": "https://localhost:8080/"
        },
        "id": "VTVW3tNhWPOg",
        "outputId": "b63ca73e-0ab3-4837-c6fb-bd25ed440b37"
      },
      "source": [
        "soup.find('div',attrs={'class':'title-line'}).a.strong.span"
      ],
      "execution_count": null,
      "outputs": [
        {
          "output_type": "execute_result",
          "data": {
            "text/plain": [
              "<span class=\"val\">4 </span>"
            ]
          },
          "metadata": {
            "tags": []
          },
          "execution_count": 87
        }
      ]
    },
    {
      "cell_type": "code",
      "metadata": {
        "colab": {
          "base_uri": "https://localhost:8080/"
        },
        "id": "01IuxyyyYB5d",
        "outputId": "b9dcdb36-6924-4d79-a25a-448a5e5b5bea"
      },
      "source": [
        "item_3=soup.find('div',attrs={'class':'title-line'}).a.strong.span  #bhk\n",
        "print(item_3.text)"
      ],
      "execution_count": null,
      "outputs": [
        {
          "output_type": "stream",
          "text": [
            "4 \n"
          ],
          "name": "stdout"
        }
      ]
    },
    {
      "cell_type": "code",
      "metadata": {
        "colab": {
          "base_uri": "https://localhost:8080/"
        },
        "id": "hRMCO9JnZQZ1",
        "outputId": "16b9e915-9ee8-40a6-cd65-509f2075ac02"
      },
      "source": [
        "soup.find('span',attrs={'class':'val','itemprop':'offers'}) #class has 2 attributes val and itemprop"
      ],
      "execution_count": null,
      "outputs": [
        {
          "output_type": "execute_result",
          "data": {
            "text/plain": [
              "<span class=\"val\" itemprop=\"offers\" itemscope=\"\" itemtype=\"http://schema.org/Offer\"><meta content=\"https://www.makaan.com/hyderabad/vessella-group-woods-in-serilingampally-14828424/4bhk-3693-sqft-villa\" itemprop=\"url\"/><meta content=\"59088000 \" itemprop=\"price\"/><meta content=\"INR\" itemprop=\"priceCurrency\"/>5.9</span>"
            ]
          },
          "metadata": {
            "tags": []
          },
          "execution_count": 89
        }
      ]
    },
    {
      "cell_type": "code",
      "metadata": {
        "colab": {
          "base_uri": "https://localhost:8080/"
        },
        "id": "i1B029XqZQbh",
        "outputId": "93b6ab90-23d6-4aed-d735-a56662d5b93a"
      },
      "source": [
        "item_price=soup.find('span',attrs={'class':'val','itemprop':'offers'}).text            \n",
        "print(item_price)"
      ],
      "execution_count": null,
      "outputs": [
        {
          "output_type": "stream",
          "text": [
            "5.9\n"
          ],
          "name": "stdout"
        }
      ]
    },
    {
      "cell_type": "code",
      "metadata": {
        "colab": {
          "base_uri": "https://localhost:8080/"
        },
        "id": "7HK3K7ujfIZm",
        "outputId": "4edf0008-0e00-469d-b2af-76be3ef962d9"
      },
      "source": [
        "soup.find('div',attrs={'data-type':'price-link'})"
      ],
      "execution_count": null,
      "outputs": [
        {
          "output_type": "execute_result",
          "data": {
            "text/plain": [
              "<div data-type=\"price-link\"><sup class=\"rupee currency\"> </sup><span class=\"val\" itemprop=\"offers\" itemscope=\"\" itemtype=\"http://schema.org/Offer\"><meta content=\"https://www.makaan.com/hyderabad/vessella-group-woods-in-serilingampally-14828424/4bhk-3693-sqft-villa\" itemprop=\"url\"/><meta content=\"59088000 \" itemprop=\"price\"/><meta content=\"INR\" itemprop=\"priceCurrency\"/>5.9</span><span class=\"unit\"> Cr</span></div>"
            ]
          },
          "metadata": {
            "tags": []
          },
          "execution_count": 91
        }
      ]
    },
    {
      "cell_type": "code",
      "metadata": {
        "colab": {
          "base_uri": "https://localhost:8080/",
          "height": 35
        },
        "id": "zrJFVZQufxEM",
        "outputId": "a4da65df-6f51-46d3-e926-57d9b0cc4ead"
      },
      "source": [
        "soup.find('div',attrs={'data-type':'price-link'}).text      #price of apartment"
      ],
      "execution_count": null,
      "outputs": [
        {
          "output_type": "execute_result",
          "data": {
            "application/vnd.google.colaboratory.intrinsic+json": {
              "type": "string"
            },
            "text/plain": [
              "' 5.9 Cr'"
            ]
          },
          "metadata": {
            "tags": []
          },
          "execution_count": 92
        }
      ]
    },
    {
      "cell_type": "code",
      "metadata": {
        "colab": {
          "base_uri": "https://localhost:8080/"
        },
        "id": "ugDLZBV4gixC",
        "outputId": "c4e3b78e-1a86-4fd3-d306-c0ef2e7bfc75"
      },
      "source": [
        "soup.find('span',attrs={'itemprop':'addressLocality'}) #this span tag has no class"
      ],
      "execution_count": null,
      "outputs": [
        {
          "output_type": "execute_result",
          "data": {
            "text/plain": [
              "<span itemprop=\"addressLocality\"><strong>Serilingampally</strong></span>"
            ]
          },
          "metadata": {
            "tags": []
          },
          "execution_count": 93
        }
      ]
    },
    {
      "cell_type": "code",
      "metadata": {
        "colab": {
          "base_uri": "https://localhost:8080/",
          "height": 35
        },
        "id": "-EAnPdSwi4c4",
        "outputId": "c1c7c54e-027a-4694-c71b-76d54a9246f8"
      },
      "source": [
        "soup.find('span',attrs={'itemprop':'addressLocality'}).text  #find the location0."
      ],
      "execution_count": null,
      "outputs": [
        {
          "output_type": "execute_result",
          "data": {
            "application/vnd.google.colaboratory.intrinsic+json": {
              "type": "string"
            },
            "text/plain": [
              "'Serilingampally'"
            ]
          },
          "metadata": {
            "tags": []
          },
          "execution_count": 94
        }
      ]
    },
    {
      "cell_type": "code",
      "metadata": {
        "id": "IEyKKICSuubU",
        "colab": {
          "base_uri": "https://localhost:8080/"
        },
        "outputId": "349c2e81-eca6-4fd9-8772-c27d4459cf5a"
      },
      "source": [
        "soup.findAll('span',attrs={'itemprop':'addressLocality'}) #will get all the locality name in the current page"
      ],
      "execution_count": null,
      "outputs": [
        {
          "output_type": "execute_result",
          "data": {
            "text/plain": [
              "[<span itemprop=\"addressLocality\"><strong>Serilingampally</strong></span>,\n",
              " <span itemprop=\"addressLocality\"><strong>Manikonda</strong></span>,\n",
              " <span itemprop=\"addressLocality\"><strong>Shaikpet</strong></span>,\n",
              " <span itemprop=\"addressLocality\"><strong>Bachupally</strong></span>,\n",
              " <span itemprop=\"addressLocality\"><strong>Shamshabad</strong></span>,\n",
              " <span itemprop=\"addressLocality\"><strong>Tellapur</strong></span>,\n",
              " <span itemprop=\"addressLocality\"><strong>Attapur</strong></span>,\n",
              " <span itemprop=\"addressLocality\"><strong>Sainikpuri</strong></span>,\n",
              " <span itemprop=\"addressLocality\"><strong>Sheriguda</strong></span>,\n",
              " <span itemprop=\"addressLocality\"><strong>Manikonda</strong></span>,\n",
              " <span itemprop=\"addressLocality\"><strong>Bachupally</strong></span>,\n",
              " <span itemprop=\"addressLocality\"><strong>Ghatkesar</strong></span>,\n",
              " <span itemprop=\"addressLocality\"><strong>Attapur</strong></span>,\n",
              " <span itemprop=\"addressLocality\"><strong>Kompally</strong></span>,\n",
              " <span itemprop=\"addressLocality\"><strong>Shankarpalli</strong></span>,\n",
              " <span itemprop=\"addressLocality\"><strong>Mallampet</strong></span>,\n",
              " <span itemprop=\"addressLocality\"><strong>Nanakramguda</strong></span>,\n",
              " <span itemprop=\"addressLocality\"><strong>Hitech City</strong></span>,\n",
              " <span itemprop=\"addressLocality\"><strong>Narsingi</strong></span>,\n",
              " <span itemprop=\"addressLocality\"><strong>Manikonda</strong></span>]"
            ]
          },
          "metadata": {
            "tags": []
          },
          "execution_count": 95
        }
      ]
    },
    {
      "cell_type": "code",
      "metadata": {
        "colab": {
          "base_uri": "https://localhost:8080/"
        },
        "id": "NILdKbqnuJpg",
        "outputId": "bfe2186b-7622-4ade-e459-210e82960b93"
      },
      "source": [
        "len(soup.findAll('span',attrs={'itemprop':'addressLocality'}))"
      ],
      "execution_count": null,
      "outputs": [
        {
          "output_type": "execute_result",
          "data": {
            "text/plain": [
              "20"
            ]
          },
          "metadata": {
            "tags": []
          },
          "execution_count": 96
        }
      ]
    },
    {
      "cell_type": "code",
      "metadata": {
        "colab": {
          "base_uri": "https://localhost:8080/"
        },
        "id": "-9I0fPv_vXn0",
        "outputId": "d93ad5d6-57b5-459e-c8ed-58a9a9a17903"
      },
      "source": [
        "location=soup.findAll('span',attrs={'itemprop':'addressLocality'})  #list 20 lcation name\n",
        "for i in location:\n",
        "  print(i.text)"
      ],
      "execution_count": null,
      "outputs": [
        {
          "output_type": "stream",
          "text": [
            "Serilingampally\n",
            "Manikonda\n",
            "Shaikpet\n",
            "Bachupally\n",
            "Shamshabad\n",
            "Tellapur\n",
            "Attapur\n",
            "Sainikpuri\n",
            "Sheriguda\n",
            "Manikonda\n",
            "Bachupally\n",
            "Ghatkesar\n",
            "Attapur\n",
            "Kompally\n",
            "Shankarpalli\n",
            "Mallampet\n",
            "Nanakramguda\n",
            "Hitech City\n",
            "Narsingi\n",
            "Manikonda\n"
          ],
          "name": "stdout"
        }
      ]
    },
    {
      "cell_type": "code",
      "metadata": {
        "id": "-n_uPnBlw6AP"
      },
      "source": [
        "#find area in square foot\n",
        "#soup.findAll('td',attrs={'class':'lbl'})  #lbl has many values"
      ],
      "execution_count": null,
      "outputs": []
    },
    {
      "cell_type": "code",
      "metadata": {
        "colab": {
          "base_uri": "https://localhost:8080/"
        },
        "id": "YRwPynOVx163",
        "outputId": "623cb0af-40aa-4934-8eef-1b175fb7971b"
      },
      "source": [
        "soup.find('td',attrs={'class':'size'})"
      ],
      "execution_count": null,
      "outputs": [
        {
          "output_type": "execute_result",
          "data": {
            "text/plain": [
              "<td class=\"size\"><span class=\"val\">3693 </span></td>"
            ]
          },
          "metadata": {
            "tags": []
          },
          "execution_count": 18
        }
      ]
    },
    {
      "cell_type": "code",
      "metadata": {
        "colab": {
          "base_uri": "https://localhost:8080/",
          "height": 35
        },
        "id": "jMrQ_KMSyAhP",
        "outputId": "3d62c426-ad2d-4491-e6a2-0a3921a2f42b"
      },
      "source": [
        "soup.find('td',attrs={'class':'size'}).text    #find the sq.feet"
      ],
      "execution_count": null,
      "outputs": [
        {
          "output_type": "execute_result",
          "data": {
            "application/vnd.google.colaboratory.intrinsic+json": {
              "type": "string"
            },
            "text/plain": [
              "'3693 '"
            ]
          },
          "metadata": {
            "tags": []
          },
          "execution_count": 19
        }
      ]
    },
    {
      "cell_type": "code",
      "metadata": {
        "colab": {
          "base_uri": "https://localhost:8080/"
        },
        "id": "UT44oakiyYsc",
        "outputId": "f624cb67-9fa4-4488-e87b-0ddbef0498c0"
      },
      "source": [
        "#construction status\n",
        "soup.find('td',attrs={'class':'val'})"
      ],
      "execution_count": null,
      "outputs": [
        {
          "output_type": "execute_result",
          "data": {
            "text/plain": [
              "<td class=\"val\">Under Construction</td>"
            ]
          },
          "metadata": {
            "tags": []
          },
          "execution_count": 20
        }
      ]
    },
    {
      "cell_type": "code",
      "metadata": {
        "colab": {
          "base_uri": "https://localhost:8080/",
          "height": 35
        },
        "id": "XpkG1gIvzqRN",
        "outputId": "412c9791-aa98-471a-aeff-e581c1977b4a"
      },
      "source": [
        "soup.find('td',attrs={'class':'val'}).text     #get the o/p "
      ],
      "execution_count": null,
      "outputs": [
        {
          "output_type": "execute_result",
          "data": {
            "application/vnd.google.colaboratory.intrinsic+json": {
              "type": "string"
            },
            "text/plain": [
              "'Under Construction'"
            ]
          },
          "metadata": {
            "tags": []
          },
          "execution_count": 21
        }
      ]
    },
    {
      "cell_type": "code",
      "metadata": {
        "colab": {
          "base_uri": "https://localhost:8080/"
        },
        "id": "3IylIRFK0Uhh",
        "outputId": "84e65f8f-6a81-4b65-dfac-33f0080a6df5"
      },
      "source": [
        "soup.find('td',attrs={'class':'lbl rate'})"
      ],
      "execution_count": null,
      "outputs": [
        {
          "output_type": "execute_result",
          "data": {
            "text/plain": [
              "<td class=\"lbl rate\">16,000 / sq ft</td>"
            ]
          },
          "metadata": {
            "tags": []
          },
          "execution_count": 22
        }
      ]
    },
    {
      "cell_type": "code",
      "metadata": {
        "colab": {
          "base_uri": "https://localhost:8080/",
          "height": 35
        },
        "id": "6RKxZMjRzqTE",
        "outputId": "77e43cf2-ce5f-4a6b-a4ac-c5bd9c62a897"
      },
      "source": [
        "soup.find('td',attrs={'class':'lbl rate'}).text"
      ],
      "execution_count": null,
      "outputs": [
        {
          "output_type": "execute_result",
          "data": {
            "application/vnd.google.colaboratory.intrinsic+json": {
              "type": "string"
            },
            "text/plain": [
              "'16,000 / sq ft'"
            ]
          },
          "metadata": {
            "tags": []
          },
          "execution_count": 23
        }
      ]
    },
    {
      "cell_type": "code",
      "metadata": {
        "id": "AHWgbS4F1Bgb"
      },
      "source": [
        "soup.findAll('span',attrs={'class':'seller-type'})"
      ],
      "execution_count": null,
      "outputs": []
    },
    {
      "cell_type": "code",
      "metadata": {
        "colab": {
          "base_uri": "https://localhost:8080/"
        },
        "id": "DVl4P_S_1Hpj",
        "outputId": "d20b3883-9a42-433c-f249-ac25e5fc7969"
      },
      "source": [
        "len(soup.findAll('span',attrs={'class':'seller-type'}))"
      ],
      "execution_count": null,
      "outputs": [
        {
          "output_type": "execute_result",
          "data": {
            "text/plain": [
              "20"
            ]
          },
          "metadata": {
            "tags": []
          },
          "execution_count": 28
        }
      ]
    },
    {
      "cell_type": "code",
      "metadata": {
        "id": "FDUFojJz1XkX"
      },
      "source": [
        "owner=soup.findAll('span',attrs={'class':'seller-type'})  # will get the all the 20 nbuilder list\n",
        "for i in owner:\n",
        "  print(i.text)"
      ],
      "execution_count": null,
      "outputs": []
    },
    {
      "cell_type": "code",
      "metadata": {
        "id": "EvTyrxeJ12KD"
      },
      "source": [
        "owner=soup.findAll('span',attrs={'class':'seller-type'})  #another method\n",
        "own_info=[]\n",
        "for i in owner:\n",
        "  own_info.append(i.text)"
      ],
      "execution_count": null,
      "outputs": []
    },
    {
      "cell_type": "code",
      "metadata": {
        "id": "U9itr5oI4cxu"
      },
      "source": [
        "owner_info=[i.text for i in owner]  #list comprehension third method"
      ],
      "execution_count": null,
      "outputs": []
    },
    {
      "cell_type": "markdown",
      "metadata": {
        "id": "oldguJwF8J0X"
      },
      "source": [
        " display first page or 20 text details"
      ]
    },
    {
      "cell_type": "code",
      "metadata": {
        "id": "hsax2HVN8HrK",
        "colab": {
          "base_uri": "https://localhost:8080/"
        },
        "outputId": "605d5c59-a578-4cdd-9447-279670e2399d"
      },
      "source": [
        "location=soup.findAll('span',attrs={'itemprop':'addressLocality'})\n",
        "Locality_info=[i.text for i in location]\n",
        "Locality_info"
      ],
      "execution_count": null,
      "outputs": [
        {
          "output_type": "execute_result",
          "data": {
            "text/plain": [
              "['Serilingampally',\n",
              " 'Manikonda',\n",
              " 'Shaikpet',\n",
              " 'Bachupally',\n",
              " 'Shamshabad',\n",
              " 'Tellapur',\n",
              " 'Attapur',\n",
              " 'Sainikpuri',\n",
              " 'Sheriguda',\n",
              " 'Manikonda',\n",
              " 'Bachupally',\n",
              " 'Ghatkesar',\n",
              " 'Attapur',\n",
              " 'Kompally',\n",
              " 'Shankarpalli',\n",
              " 'Mallampet',\n",
              " 'Nanakramguda',\n",
              " 'Hitech City',\n",
              " 'Narsingi',\n",
              " 'Manikonda']"
            ]
          },
          "metadata": {
            "tags": []
          },
          "execution_count": 98
        }
      ]
    },
    {
      "cell_type": "code",
      "metadata": {
        "id": "iN93ZmFZ75GX"
      },
      "source": [
        "price=soup.findAll('div',attrs={'data-type':'price-link'})  \n",
        "price_info=soup.find('td',attrs={'class':'val'}).text"
      ],
      "execution_count": null,
      "outputs": []
    },
    {
      "cell_type": "code",
      "metadata": {
        "id": "W081UDrf8VUt"
      },
      "source": [
        "Squarefeet=soup.findAll('td',attrs={'class':'size'}) \n",
        "Sqfeet_info=[i.text.strip() for i in Squarefeet] #.strip removes the white space\n",
        "Sqfeet_info"
      ],
      "execution_count": null,
      "outputs": []
    },
    {
      "cell_type": "code",
      "metadata": {
        "id": "vXR1GOrw8rjc"
      },
      "source": [
        "bhk_info=soup.findAll('div',attrs={'class':'title-line'}) \n",
        "bhk=[i.strong.span.text for i in bhk_info]\n",
        "bhk"
      ],
      "execution_count": null,
      "outputs": []
    },
    {
      "cell_type": "code",
      "metadata": {
        "id": "j4crYC-y_rn5",
        "colab": {
          "base_uri": "https://localhost:8080/"
        },
        "outputId": "1f7012b4-fab0-49bf-8bc4-ae7b8ef045e3"
      },
      "source": [
        "Construction=soup.findAll('td',attrs={'class':'val'})#construction info\n",
        "Con_info=[i.text for i in Construction]\n",
        "Con_info"
      ],
      "execution_count": null,
      "outputs": [
        {
          "output_type": "execute_result",
          "data": {
            "text/plain": [
              "['Under Construction',\n",
              " 'Under Construction',\n",
              " 'Ready to move',\n",
              " 'Under Construction',\n",
              " 'Under Construction',\n",
              " 'Under Construction',\n",
              " 'Under Construction',\n",
              " 'Under Construction',\n",
              " 'New',\n",
              " 'Under Construction',\n",
              " 'Under Construction',\n",
              " 'Under Construction',\n",
              " 'Under Construction',\n",
              " 'Under Construction',\n",
              " 'Under Construction',\n",
              " 'Under Construction',\n",
              " 'Ready to move',\n",
              " 'Ready to move',\n",
              " 'Under Construction',\n",
              " 'Under Construction']"
            ]
          },
          "metadata": {
            "tags": []
          },
          "execution_count": 32
        }
      ]
    },
    {
      "cell_type": "code",
      "metadata": {
        "id": "HWdto3TGAeGR"
      },
      "source": [
        "owner= soup.findAll('span',attrs={'class':'seller-type'})  \n",
        "owner_info=[i.text for i in owner]"
      ],
      "execution_count": 121,
      "outputs": []
    },
    {
      "cell_type": "code",
      "metadata": {
        "id": "mVBTWKdjAtv-",
        "colab": {
          "base_uri": "https://localhost:8080/"
        },
        "outputId": "e5095983-4dbd-4556-8794-e65eda8fe4e3"
      },
      "source": [
        "Price_per_feet=soup.findAll('td',attrs={'class':'lbl rate'})\n",
        "P_feet=[i.text for i in Price_per_feet]\n",
        "P_feet"
      ],
      "execution_count": 123,
      "outputs": [
        {
          "output_type": "execute_result",
          "data": {
            "text/plain": [
              "['16,000 / sq ft',\n",
              " '5,699 / sq ft',\n",
              " '9,565 / sq ft',\n",
              " '4,400 / sq ft',\n",
              " '4,899 / sq ft',\n",
              " '4,600 / sq ft',\n",
              " '6,501 / sq ft',\n",
              " '5,400 / sq ft',\n",
              " '3,555 / sq ft',\n",
              " '6,200 / sq ft',\n",
              " '6,304 / sq ft',\n",
              " '4,500 / sq ft',\n",
              " '5,500 / sq ft',\n",
              " '4,700 / sq ft',\n",
              " '4,700 / sq ft',\n",
              " '4,199 / sq ft',\n",
              " '6,800 / sq ft',\n",
              " '8,290 / sq ft',\n",
              " '16,000 / sq ft',\n",
              " '5,699 / sq ft']"
            ]
          },
          "metadata": {
            "tags": []
          },
          "execution_count": 123
        }
      ]
    },
    {
      "cell_type": "code",
      "metadata": {
        "id": "4CuK_esgCobl",
        "colab": {
          "base_uri": "https://localhost:8080/"
        },
        "outputId": "e1410cac-e221-49a0-e889-260d39cd00c8"
      },
      "source": [
        "print(len(Price_per_feet))\n",
        "print(len(P_feet))"
      ],
      "execution_count": 122,
      "outputs": [
        {
          "output_type": "stream",
          "text": [
            "20\n",
            "20\n"
          ],
          "name": "stdout"
        }
      ]
    },
    {
      "cell_type": "code",
      "metadata": {
        "id": "8sDJbyYsDCpK"
      },
      "source": [
        "data=pd.DataFrame({'owner':owner_info, \n",
        "              'bhk_info':bhk,\n",
        "              'price':price_info,\n",
        "             'Squarefeet':Sqfeet_info,\n",
        "              'Construction':Con_info,\n",
        "              'Price_per_feet':P_feet,\n",
        "              'Locality':Locality_info})"
      ],
      "execution_count": null,
      "outputs": []
    },
    {
      "cell_type": "code",
      "metadata": {
        "id": "FueI_YCwG_vj",
        "colab": {
          "base_uri": "https://localhost:8080/"
        },
        "outputId": "75c3a497-34ac-41a4-9433-4ec79e8022e9"
      },
      "source": [
        "print(data)"
      ],
      "execution_count": null,
      "outputs": [
        {
          "output_type": "stream",
          "text": [
            "      owner          bhk_info  ...  Price_per_feet         Locality\n",
            "0   BUILDER                4   ...  16,000 / sq ft  Serilingampally\n",
            "1   BUILDER                3   ...   5,699 / sq ft        Manikonda\n",
            "2   BUILDER                2   ...   9,565 / sq ft         Shaikpet\n",
            "3   BUILDER                2   ...   4,400 / sq ft       Bachupally\n",
            "4   BUILDER                2   ...   4,899 / sq ft       Shamshabad\n",
            "5   BUILDER                3   ...   4,600 / sq ft         Tellapur\n",
            "6   BUILDER                2   ...   6,501 / sq ft          Attapur\n",
            "7   BUILDER                3   ...   5,400 / sq ft       Sainikpuri\n",
            "8   BUILDER  Residential Plot  ...   3,555 / sq ft        Sheriguda\n",
            "9   BUILDER                3   ...   6,200 / sq ft        Manikonda\n",
            "10  BUILDER                4   ...   6,304 / sq ft       Bachupally\n",
            "11  BUILDER                2   ...   4,500 / sq ft        Ghatkesar\n",
            "12  BUILDER                2   ...   5,500 / sq ft          Attapur\n",
            "13  BUILDER                2   ...   4,700 / sq ft         Kompally\n",
            "14  BUILDER                3   ...   4,700 / sq ft     Shankarpalli\n",
            "15  BUILDER                3   ...   4,199 / sq ft        Mallampet\n",
            "16  BUILDER                3   ...   6,800 / sq ft     Nanakramguda\n",
            "17  BUILDER                4   ...   8,290 / sq ft      Hitech City\n",
            "18  BUILDER                4   ...  16,000 / sq ft         Narsingi\n",
            "19  BUILDER                3   ...   5,699 / sq ft        Manikonda\n",
            "\n",
            "[20 rows x 7 columns]\n"
          ],
          "name": "stdout"
        }
      ]
    },
    {
      "cell_type": "code",
      "metadata": {
        "id": "VTV5K7M6GMj4"
      },
      "source": [
        "data.to_csv('Apartment_data.csv')   #converts it in to csv file"
      ],
      "execution_count": null,
      "outputs": []
    },
    {
      "cell_type": "code",
      "metadata": {
        "id": "ejQ5zREtID9l"
      },
      "source": [
        "data.to_csv('Apartment_data.csv',index=False)   #if you dont want index\n"
      ],
      "execution_count": 120,
      "outputs": []
    },
    {
      "cell_type": "markdown",
      "metadata": {
        "id": "To5YQrXCJJ_4"
      },
      "source": [
        "\n",
        "'https://www.makaan.com/hyderabad-residential-property/buy-property-in-hyderabad-city'\n",
        "\n",
        "```\n",
        "# This is formatted as code\n",
        "```\n",
        "\n"
      ]
    },
    {
      "cell_type": "code",
      "metadata": {
        "id": "SQzQE-jWJGnt",
        "colab": {
          "base_uri": "https://localhost:8080/",
          "height": 35
        },
        "outputId": "7a0a6482-ccab-4246-a6d1-a25e06811a10"
      },
      "source": [
        "'https://www.makaan.com/hyderabad-residential-property/buy-property-in-hyderabad-city'\n",
        "\n",
        "\n",
        "'https://www.makaan.com/hyderabad-residential-property/buy-property-in-hyderabad-city?_=1624540184551'\n",
        "\n",
        "'https://www.makaan.com/hyderabad-residential-property/buy-property-in-hyderabad-city?_=1624540261767&page=3'\n",
        "'https://www.makaan.com/hyderabad-residential-property/buy-property-in-hyderabad-city?_=1624540261767&page=4'"
      ],
      "execution_count": null,
      "outputs": [
        {
          "output_type": "execute_result",
          "data": {
            "application/vnd.google.colaboratory.intrinsic+json": {
              "type": "string"
            },
            "text/plain": [
              "'https://www.makaan.com/hyderabad-residential-property/buy-property-in-hyderabad-city?_=1624540261767&page=4'"
            ]
          },
          "metadata": {
            "tags": []
          },
          "execution_count": 46
        }
      ]
    },
    {
      "cell_type": "code",
      "metadata": {
        "colab": {
          "base_uri": "https://localhost:8080/"
        },
        "id": "f7geWnhBKXPe",
        "outputId": "5f5540c7-4a01-4056-d18c-3cfa63dc59ba"
      },
      "source": [
        "baseurl='https://www.makaan.com/hyderabad-residential-property/buy-property-in-hyderabad-city?_=1624540261767&page='\n",
        "for i in range(1,3):\n",
        "  print(baseurl+str(i)+'&=1624540184551')"
      ],
      "execution_count": null,
      "outputs": [
        {
          "output_type": "stream",
          "text": [
            "https://www.makaan.com/hyderabad-residential-property/buy-property-in-hyderabad-city?_=1624540261767&page=1&=1624540184551\n",
            "https://www.makaan.com/hyderabad-residential-property/buy-property-in-hyderabad-city?_=1624540261767&page=2&=1624540184551\n"
          ],
          "name": "stdout"
        }
      ]
    },
    {
      "cell_type": "code",
      "metadata": {
        "id": "Gequ0d6mCN0_",
        "colab": {
          "base_uri": "https://localhost:8080/"
        },
        "outputId": "cb2d0fb8-8c56-4d90-eb1e-92432070dfad"
      },
      "source": [
        "# import time module to pause the downloading time\n",
        "import time\n",
        "import requests\n",
        "#display bhk details of given pages\n",
        "baseurl='https://www.makaan.com/hyderabad-residential-property/buy-property-in-hyderabad-city?_=1624540261767&page='\n",
        "store_ownerinfo=[] \n",
        "no_bhk=[]\n",
        "local_info=[]\n",
        "price_feet=[]\n",
        "for i in range(1,20):\n",
        "  time.sleep(2)\n",
        "  print(baseurl+str(i)+'&=1624540184551')\n",
        "  req=requests.get(url)\n",
        "  soup=BeautifulSoup(req.text,'html')\n",
        "  location=soup.findAll('span',attrs={'itemprop':'addressLocality'})\n",
        "  Locality_info=[i.text for i in location]\n",
        "\n",
        "  for j in Locality_info:\n",
        "    local_info.append(j)\n",
        "\n",
        "\n",
        "  owner_information=soup.findAll('span',attrs={'class':'seller-type'}) \n",
        "  ownerinfo_currentpage=[i.text for i in owner_information]  #gives page wise all the  owners info \n",
        "\n",
        "  for j  in ownerinfo_currentpage: \n",
        "    store_ownerinfo.append(j)\n",
        "    \n",
        "  bhk_info=soup.findAll('div',attrs={'class':'title-line'})      #bhk_info\n",
        "  for j in bhk_info:   # Loop iterates 20 times update 20 BUILDER (ie,first page owner values) names in the list ,  loop21-30 update values of second page and so on\n",
        "    no_bhk.append(j.strong.span.text)\n",
        "  \n",
        "  for j in P_feet:\n",
        "    price_feet.append(j)\n",
        "\n",
        "\n"
      ],
      "execution_count": 127,
      "outputs": [
        {
          "output_type": "stream",
          "text": [
            "https://www.makaan.com/hyderabad-residential-property/buy-property-in-hyderabad-city?_=1624540261767&page=1&=1624540184551\n",
            "https://www.makaan.com/hyderabad-residential-property/buy-property-in-hyderabad-city?_=1624540261767&page=2&=1624540184551\n",
            "https://www.makaan.com/hyderabad-residential-property/buy-property-in-hyderabad-city?_=1624540261767&page=3&=1624540184551\n",
            "https://www.makaan.com/hyderabad-residential-property/buy-property-in-hyderabad-city?_=1624540261767&page=4&=1624540184551\n",
            "https://www.makaan.com/hyderabad-residential-property/buy-property-in-hyderabad-city?_=1624540261767&page=5&=1624540184551\n",
            "https://www.makaan.com/hyderabad-residential-property/buy-property-in-hyderabad-city?_=1624540261767&page=6&=1624540184551\n",
            "https://www.makaan.com/hyderabad-residential-property/buy-property-in-hyderabad-city?_=1624540261767&page=7&=1624540184551\n",
            "https://www.makaan.com/hyderabad-residential-property/buy-property-in-hyderabad-city?_=1624540261767&page=8&=1624540184551\n",
            "https://www.makaan.com/hyderabad-residential-property/buy-property-in-hyderabad-city?_=1624540261767&page=9&=1624540184551\n",
            "https://www.makaan.com/hyderabad-residential-property/buy-property-in-hyderabad-city?_=1624540261767&page=10&=1624540184551\n",
            "https://www.makaan.com/hyderabad-residential-property/buy-property-in-hyderabad-city?_=1624540261767&page=11&=1624540184551\n",
            "https://www.makaan.com/hyderabad-residential-property/buy-property-in-hyderabad-city?_=1624540261767&page=12&=1624540184551\n",
            "https://www.makaan.com/hyderabad-residential-property/buy-property-in-hyderabad-city?_=1624540261767&page=13&=1624540184551\n",
            "https://www.makaan.com/hyderabad-residential-property/buy-property-in-hyderabad-city?_=1624540261767&page=14&=1624540184551\n",
            "https://www.makaan.com/hyderabad-residential-property/buy-property-in-hyderabad-city?_=1624540261767&page=15&=1624540184551\n",
            "https://www.makaan.com/hyderabad-residential-property/buy-property-in-hyderabad-city?_=1624540261767&page=16&=1624540184551\n",
            "https://www.makaan.com/hyderabad-residential-property/buy-property-in-hyderabad-city?_=1624540261767&page=17&=1624540184551\n",
            "https://www.makaan.com/hyderabad-residential-property/buy-property-in-hyderabad-city?_=1624540261767&page=18&=1624540184551\n",
            "https://www.makaan.com/hyderabad-residential-property/buy-property-in-hyderabad-city?_=1624540261767&page=19&=1624540184551\n"
          ],
          "name": "stdout"
        }
      ]
    },
    {
      "cell_type": "code",
      "metadata": {
        "colab": {
          "base_uri": "https://localhost:8080/",
          "height": 406
        },
        "id": "slFVrMFdCOx6",
        "outputId": "d4be4027-696a-4d90-8b13-ac5e1f0ebcba"
      },
      "source": [
        "data=pd.DataFrame({'Owner_Info': store_ownerinfo,'Location':local_info,'Number_of_BHK':no_bhk,'Price_feet':price_feet})\n",
        "data"
      ],
      "execution_count": 128,
      "outputs": [
        {
          "output_type": "execute_result",
          "data": {
            "text/html": [
              "<div>\n",
              "<style scoped>\n",
              "    .dataframe tbody tr th:only-of-type {\n",
              "        vertical-align: middle;\n",
              "    }\n",
              "\n",
              "    .dataframe tbody tr th {\n",
              "        vertical-align: top;\n",
              "    }\n",
              "\n",
              "    .dataframe thead th {\n",
              "        text-align: right;\n",
              "    }\n",
              "</style>\n",
              "<table border=\"1\" class=\"dataframe\">\n",
              "  <thead>\n",
              "    <tr style=\"text-align: right;\">\n",
              "      <th></th>\n",
              "      <th>Owner_Info</th>\n",
              "      <th>Location</th>\n",
              "      <th>Number_of_BHK</th>\n",
              "      <th>Price_feet</th>\n",
              "    </tr>\n",
              "  </thead>\n",
              "  <tbody>\n",
              "    <tr>\n",
              "      <th>0</th>\n",
              "      <td>BUILDER</td>\n",
              "      <td>Serilingampally</td>\n",
              "      <td>4</td>\n",
              "      <td>16,000 / sq ft</td>\n",
              "    </tr>\n",
              "    <tr>\n",
              "      <th>1</th>\n",
              "      <td>BUILDER</td>\n",
              "      <td>Manikonda</td>\n",
              "      <td>3</td>\n",
              "      <td>5,699 / sq ft</td>\n",
              "    </tr>\n",
              "    <tr>\n",
              "      <th>2</th>\n",
              "      <td>BUILDER</td>\n",
              "      <td>Shaikpet</td>\n",
              "      <td>2</td>\n",
              "      <td>9,565 / sq ft</td>\n",
              "    </tr>\n",
              "    <tr>\n",
              "      <th>3</th>\n",
              "      <td>BUILDER</td>\n",
              "      <td>Bachupally</td>\n",
              "      <td>2</td>\n",
              "      <td>4,400 / sq ft</td>\n",
              "    </tr>\n",
              "    <tr>\n",
              "      <th>4</th>\n",
              "      <td>BUILDER</td>\n",
              "      <td>Shamshabad</td>\n",
              "      <td>2</td>\n",
              "      <td>4,899 / sq ft</td>\n",
              "    </tr>\n",
              "    <tr>\n",
              "      <th>...</th>\n",
              "      <td>...</td>\n",
              "      <td>...</td>\n",
              "      <td>...</td>\n",
              "      <td>...</td>\n",
              "    </tr>\n",
              "    <tr>\n",
              "      <th>375</th>\n",
              "      <td>BUILDER</td>\n",
              "      <td>Mallampet</td>\n",
              "      <td>3</td>\n",
              "      <td>4,199 / sq ft</td>\n",
              "    </tr>\n",
              "    <tr>\n",
              "      <th>376</th>\n",
              "      <td>BUILDER</td>\n",
              "      <td>Nanakramguda</td>\n",
              "      <td>3</td>\n",
              "      <td>6,800 / sq ft</td>\n",
              "    </tr>\n",
              "    <tr>\n",
              "      <th>377</th>\n",
              "      <td>BUILDER</td>\n",
              "      <td>Hitech City</td>\n",
              "      <td>4</td>\n",
              "      <td>8,290 / sq ft</td>\n",
              "    </tr>\n",
              "    <tr>\n",
              "      <th>378</th>\n",
              "      <td>BUILDER</td>\n",
              "      <td>Narsingi</td>\n",
              "      <td>4</td>\n",
              "      <td>16,000 / sq ft</td>\n",
              "    </tr>\n",
              "    <tr>\n",
              "      <th>379</th>\n",
              "      <td>BUILDER</td>\n",
              "      <td>Manikonda</td>\n",
              "      <td>3</td>\n",
              "      <td>5,699 / sq ft</td>\n",
              "    </tr>\n",
              "  </tbody>\n",
              "</table>\n",
              "<p>380 rows × 4 columns</p>\n",
              "</div>"
            ],
            "text/plain": [
              "    Owner_Info         Location Number_of_BHK      Price_feet\n",
              "0      BUILDER  Serilingampally            4   16,000 / sq ft\n",
              "1      BUILDER        Manikonda            3    5,699 / sq ft\n",
              "2      BUILDER         Shaikpet            2    9,565 / sq ft\n",
              "3      BUILDER       Bachupally            2    4,400 / sq ft\n",
              "4      BUILDER       Shamshabad            2    4,899 / sq ft\n",
              "..         ...              ...           ...             ...\n",
              "375    BUILDER        Mallampet            3    4,199 / sq ft\n",
              "376    BUILDER     Nanakramguda            3    6,800 / sq ft\n",
              "377    BUILDER      Hitech City            4    8,290 / sq ft\n",
              "378    BUILDER         Narsingi            4   16,000 / sq ft\n",
              "379    BUILDER        Manikonda            3    5,699 / sq ft\n",
              "\n",
              "[380 rows x 4 columns]"
            ]
          },
          "metadata": {
            "tags": []
          },
          "execution_count": 128
        }
      ]
    },
    {
      "cell_type": "code",
      "metadata": {
        "id": "AqlsQsm-okRt"
      },
      "source": [
        "data.to_csv('Page20_data.csv',index=False)"
      ],
      "execution_count": 129,
      "outputs": []
    }
  ]
}