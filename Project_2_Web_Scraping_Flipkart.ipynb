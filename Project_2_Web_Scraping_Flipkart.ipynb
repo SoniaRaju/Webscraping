{
  "nbformat": 4,
  "nbformat_minor": 0,
  "metadata": {
    "colab": {
      "name": "Project 2 Web Scraping-Flipkart.ipynb",
      "provenance": [],
      "collapsed_sections": [],
      "authorship_tag": "ABX9TyPMty6ghN4vNR9UAmJkcSkw",
      "include_colab_link": true
    },
    "kernelspec": {
      "name": "python3",
      "display_name": "Python 3"
    },
    "language_info": {
      "name": "python"
    }
  },
  "cells": [
    {
      "cell_type": "markdown",
      "metadata": {
        "id": "view-in-github",
        "colab_type": "text"
      },
      "source": [
        "<a href=\"https://colab.research.google.com/github/soniaraju/Webscraping/blob/main/Project_2_Web_Scraping_Flipkart.ipynb\" target=\"_parent\"><img src=\"https://colab.research.google.com/assets/colab-badge.svg\" alt=\"Open In Colab\"/></a>"
      ]
    },
    {
      "cell_type": "markdown",
      "metadata": {
        "id": "BPbXEDbJvrQr"
      },
      "source": [
        "#Flipkart-Web-Scraping-using-python\n",
        "The project describes how to extract useful data from  Flipkart web and save the data in a tabular file. \n",
        "#Objective: \n",
        "Scrap the **AppleMacbok details** from multiple Flipcart web pages .\n",
        "#Python libraries:-\n",
        "\n",
        "* Requests\n",
        "* BEAUTIFUL SOUP:from bs4 import BeautifulSoup\n",
        "* Padas"
      ]
    },
    {
      "cell_type": "markdown",
      "metadata": {
        "id": "nF8peJ0a98EZ"
      },
      "source": [
        ""
      ]
    },
    {
      "cell_type": "code",
      "metadata": {
        "id": "yfgefq58U3oQ"
      },
      "source": [
        "#import libraries\n",
        "import requests\n",
        "from bs4 import BeautifulSoup\n",
        "import pandas as pd\n",
        "import time"
      ],
      "execution_count": 4,
      "outputs": []
    },
    {
      "cell_type": "code",
      "metadata": {
        "id": "-syNbxUTU4rm"
      },
      "source": [
        "# Get the HTML content from the web page and parsing the HTML content\n",
        "url='https://www.flipkart.com/q/apple-macbook-air'\n",
        "req=requests.get(url)\n",
        "soup=BeautifulSoup(req.text,'html')"
      ],
      "execution_count": 5,
      "outputs": []
    },
    {
      "cell_type": "code",
      "metadata": {
        "id": "ymVSS80QWNIy",
        "colab": {
          "base_uri": "https://localhost:8080/"
        },
        "outputId": "0190f2f0-2741-46b2-8b97-303a68028875"
      },
      "source": [
        "#Scrape the name of the laptop from the current web page\n",
        "item_name=soup.findAll('div',attrs={'class':'_4rR01T'})\n",
        "for i in item_name:\n",
        "  i.text\n",
        "item=[i.text for i in item_name]\n",
        "print(item)"
      ],
      "execution_count": 8,
      "outputs": [
        {
          "output_type": "stream",
          "text": [
            "['APPLE MacBook Air M1 - (8 GB/256 GB SSD/Mac OS Big Sur) MGN63HN/A', 'APPLE MacBook Air M1 - (8 GB/512 GB SSD/Mac OS Big Sur) MGN73HN/A', 'APPLE MacBook Air Core i5 10th Gen - (8 GB/512 GB SSD/Mac OS Catalina) MVH52HN/A', 'APPLE MacBook Air Core i5 10th Gen - (8 GB/256 GB SSD/Mac OS Catalina) Z0YJ001KD', 'APPLE MacBook Air M1 - (8 GB/256 GB SSD/Mac OS Big Sur) MGND3HN/A', 'APPLE MacBook Air M1 - (8 GB/512 GB SSD/Mac OS Big Sur) MGNE3HN/A', 'APPLE MacBook Air Core i5 10th Gen - (8 GB/512 GB SSD/Mac OS Catalina) MVH22HN/A', 'APPLE MacBook Air M1 - (8 GB/512 GB SSD/Mac OS Big Sur) MGNA3HN/A']\n"
          ],
          "name": "stdout"
        }
      ]
    },
    {
      "cell_type": "code",
      "metadata": {
        "colab": {
          "base_uri": "https://localhost:8080/"
        },
        "id": "sC3JLPGO68Ol",
        "outputId": "c18930bc-ffc2-4390-af7f-833226e29cad"
      },
      "source": [
        "len(item_name)"
      ],
      "execution_count": null,
      "outputs": [
        {
          "output_type": "execute_result",
          "data": {
            "text/plain": [
              "7"
            ]
          },
          "metadata": {
            "tags": []
          },
          "execution_count": 26
        }
      ]
    },
    {
      "cell_type": "code",
      "metadata": {
        "colab": {
          "base_uri": "https://localhost:8080/",
          "height": 35
        },
        "id": "fSMR0HECWNaO",
        "outputId": "ebe17134-4512-428a-9f39-413567cb58cd"
      },
      "source": [
        "# Scrape the price of first item\n",
        "soup.find('div',attrs={'class':'_30jeq3 _1_WHN1'}).text"
      ],
      "execution_count": null,
      "outputs": [
        {
          "output_type": "execute_result",
          "data": {
            "application/vnd.google.colaboratory.intrinsic+json": {
              "type": "string"
            },
            "text/plain": [
              "'₹92,900'"
            ]
          },
          "metadata": {
            "tags": []
          },
          "execution_count": 29
        }
      ]
    },
    {
      "cell_type": "code",
      "metadata": {
        "colab": {
          "base_uri": "https://localhost:8080/"
        },
        "id": "BmncyK7ZauPa",
        "outputId": "cde2c6f2-9dc2-4799-ae50-5708f3b097a7"
      },
      "source": [
        "#scrape the price details of 7 laptops in the first Flipkart web page\n",
        "prices=[]\n",
        "item_price=soup.findAll('div',attrs={'class':'_30jeq3 _1_WHN1'})\n",
        "\n",
        "for i in item_price:\n",
        "   prices.append(i.text)\n",
        "print(prices)"
      ],
      "execution_count": null,
      "outputs": [
        {
          "output_type": "stream",
          "text": [
            "['₹92,900', '₹1,14,990', '₹97,990', '₹1,14,990', '₹89,990', '₹1,02,990', '₹1,14,990']\n"
          ],
          "name": "stdout"
        }
      ]
    },
    {
      "cell_type": "code",
      "metadata": {
        "colab": {
          "base_uri": "https://localhost:8080/"
        },
        "id": "ZWvEv66P61QQ",
        "outputId": "3ab28848-3a30-4a0b-fa23-9e6fe21c360e"
      },
      "source": [
        "len(prices)"
      ],
      "execution_count": null,
      "outputs": [
        {
          "output_type": "execute_result",
          "data": {
            "text/plain": [
              "7"
            ]
          },
          "metadata": {
            "tags": []
          },
          "execution_count": 31
        }
      ]
    },
    {
      "cell_type": "code",
      "metadata": {
        "colab": {
          "base_uri": "https://localhost:8080/",
          "height": 35
        },
        "id": "bNzLAb7mb7vl",
        "outputId": "bc53220b-c98a-403a-b9c5-0daabca71abf"
      },
      "source": [
        "soup.find('div',attrs={'class':'_3LWZlK'}).text    #Stars"
      ],
      "execution_count": null,
      "outputs": [
        {
          "output_type": "execute_result",
          "data": {
            "application/vnd.google.colaboratory.intrinsic+json": {
              "type": "string"
            },
            "text/plain": [
              "'4.7'"
            ]
          },
          "metadata": {
            "tags": []
          },
          "execution_count": 32
        }
      ]
    },
    {
      "cell_type": "code",
      "metadata": {
        "id": "xTFtPeyYd9_U"
      },
      "source": [
        "stars=soup.findAll('div',attrs={'class':'_3LWZlK'})\n",
        "for i in stars:\n",
        "  i.text\n",
        "star=[i.text for i in stars]"
      ],
      "execution_count": null,
      "outputs": []
    },
    {
      "cell_type": "code",
      "metadata": {
        "colab": {
          "base_uri": "https://localhost:8080/"
        },
        "id": "v73MsNve6sqS",
        "outputId": "e793f074-88df-4279-f64b-aab5cd067958"
      },
      "source": [
        "len(stars)"
      ],
      "execution_count": null,
      "outputs": [
        {
          "output_type": "execute_result",
          "data": {
            "text/plain": [
              "19"
            ]
          },
          "metadata": {
            "tags": []
          },
          "execution_count": 11
        }
      ]
    },
    {
      "cell_type": "code",
      "metadata": {
        "colab": {
          "base_uri": "https://localhost:8080/",
          "height": 53
        },
        "id": "KTdfNx6If2lN",
        "outputId": "4ecfb483-8185-431e-9d3a-ed6708a7fa04"
      },
      "source": [
        "soup.find('div',attrs={'class':'fMghEO'}).text    #Specification"
      ],
      "execution_count": null,
      "outputs": [
        {
          "output_type": "execute_result",
          "data": {
            "application/vnd.google.colaboratory.intrinsic+json": {
              "type": "string"
            },
            "text/plain": [
              "'Apple M1 Processor8 GB DDR4 RAMMac OS Operating System256 GB SSD33.78 cm (13.3 inch) DisplayBuilt-in Apps: iMovie, Siri, GarageBand, Pages, Numbers, Photos, Keynote, Safari, Mail, FaceTime, Messages, Maps, Stocks, Home, Voice Memos, Notes, Calendar, Contacts, Reminders, Photo Booth, Preview, Books, App Store, Time Machine, TV, Music, Podcasts, Find My, QuickTime Player1 Year Limited Warra\\xadnty'"
            ]
          },
          "metadata": {
            "tags": []
          },
          "execution_count": 34
        }
      ]
    },
    {
      "cell_type": "code",
      "metadata": {
        "id": "0RRXdUrhf_vo"
      },
      "source": [
        "Specif=soup.findAll('div',attrs={'class':'fMghEO'})\n",
        "#for i in Specif:\n",
        " # print(i.text)"
      ],
      "execution_count": null,
      "outputs": []
    },
    {
      "cell_type": "code",
      "metadata": {
        "colab": {
          "base_uri": "https://localhost:8080/"
        },
        "id": "F1s_3wwe34KX",
        "outputId": "5b0f376b-2e5a-466b-d790-7407fcfe19a0"
      },
      "source": [
        "#Extract the specification\n",
        "specif=soup.findAll('div',attrs={'class':'fMghEO'})\n",
        "sp=[i.text for i in specif]\n",
        "sp\n",
        "  "
      ],
      "execution_count": null,
      "outputs": [
        {
          "output_type": "execute_result",
          "data": {
            "text/plain": [
              "['Apple M1 Processor8 GB DDR4 RAMMac OS Operating System256 GB SSD33.78 cm (13.3 inch) DisplayBuilt-in Apps: iMovie, Siri, GarageBand, Pages, Numbers, Photos, Keynote, Safari, Mail, FaceTime, Messages, Maps, Stocks, Home, Voice Memos, Notes, Calendar, Contacts, Reminders, Photo Booth, Preview, Books, App Store, Time Machine, TV, Music, Podcasts, Find My, QuickTime Player1 Year Limited Warra\\xadnty',\n",
              " 'Apple M1 Processor8 GB DDR4 RAMMac OS Operating System512 GB SSD33.78 cm (13.3 inch) DisplayBuilt-in Apps: iMovie, Siri, GarageBand, Pages, Numbers, Photos, Keynote, Safari, Mail, FaceTime, Messages, Maps, Stocks, Home, Voice Memos, Notes, Calendar, Contacts, Reminders, Photo Booth, Preview, Books, App Store, Time Machine, TV, Music, Podcasts, Find My, QuickTime Player1 Year Limited Warra\\xadnty',\n",
              " 'Intel Core i5 Processor (10th Gen)8 GB LPDDR4X RAMMac OS Operating System512 GB SSD33.78 cm (13.3 inch) DisplayBuilt-in Apps: Photos, iMovie, GarageBand, Pages, Numbers, Keynote, Siri, Safari, Mail, FaceTime, Messages, Maps, News, Stocks, Home, Voice Memos, Notes, Calendar, Contacts, Reminders, Photo Booth, Preview, Books, App Store, Time Machine, TV, Music, Podcasts, Find My, QuickTime Player1 Year Limited Warranty',\n",
              " 'Apple M1 Processor8 GB DDR4 RAMMac OS Operating System512 GB SSD33.78 cm (13.3 inch) DisplayBuilt-in Apps: iMovie, Siri, GarageBand, Pages, Numbers, Photos, Keynote, Safari, Mail, FaceTime, Messages, Maps, Stocks, Home, Voice Memos, Notes, Calendar, Contacts, Reminders, Photo Booth, Preview, Books, App Store, Time Machine, TV, Music, Podcasts, Find My, QuickTime Player1 Year Limited Warra\\xadnty',\n",
              " 'Intel Core i5 Processor (10th Gen)8 GB LPDDR4X RAMMac OS Operating System256 GB SSD33.78 cm (13.3 inch) DisplayBuilt-in Apps: Photos, iMovie, GarageBand, Pages, Numbers, Keynote, Siri, Safari, Mail, FaceTime, Messages, Maps, News, Stocks, Home, Voice Memos, Notes, Calendar, Contacts, Reminders, Photo Booth, Preview, Books, App Store, Time Machine, TV, Music, Podcasts, Find My, QuickTime Player1 Year Limited Warranty',\n",
              " 'Intel Core i5 Processor (10th Gen)8 GB LPDDR4X RAMMac OS Operating System512 GB SSD33.78 cm (13.3 inch) DisplayBuilt-in Apps: Photos, iMovie, GarageBand, Pages, Numbers, Keynote, Siri, Safari, Mail, FaceTime, Messages, Maps, News, Stocks, Home, Voice Memos, Notes, Calendar, Contacts, Reminders, Photo Booth, Preview, Books, App Store, Time Machine, TV, Music, Podcasts, Find My, QuickTime Player1 Year Limited Warranty',\n",
              " 'Apple M1 Processor8 GB DDR4 RAMMac OS Operating System512 GB SSD33.78 cm (13.3 inch) DisplayBuilt-in Apps: iMovie, Siri, GarageBand, Pages, Numbers, Photos, Keynote, Safari, Mail, FaceTime, Messages, Maps, Stocks, Home, Voice Memos, Notes, Calendar, Contacts, Reminders, Photo Booth, Preview, Books, App Store, Time Machine, TV, Music, Podcasts, Find My, QuickTime Player1 Year Limited Warra\\xadnty']"
            ]
          },
          "metadata": {
            "tags": []
          },
          "execution_count": 36
        }
      ]
    },
    {
      "cell_type": "code",
      "metadata": {
        "id": "QFprhe6ot2il",
        "colab": {
          "base_uri": "https://localhost:8080/",
          "height": 35
        },
        "outputId": "4a783153-e1de-4b71-e963-aaffbbcf85e9"
      },
      "source": [
        "ul_list = soup.find('ul',attrs={'class':'_1xgFaf'})\n",
        "ul_list.findAll('li')[0].text\n",
        "ul_list.findAll('li')[-1].text"
      ],
      "execution_count": null,
      "outputs": [
        {
          "output_type": "execute_result",
          "data": {
            "application/vnd.google.colaboratory.intrinsic+json": {
              "type": "string"
            },
            "text/plain": [
              "'1 Year Limited Warra\\xadnty'"
            ]
          },
          "metadata": {
            "tags": []
          },
          "execution_count": 20
        }
      ]
    },
    {
      "cell_type": "code",
      "metadata": {
        "id": "gTK8UneWgatR"
      },
      "source": [
        "processor=[]\n",
        "os=[]\n",
        "SSD=[]\n",
        "\n",
        "ul_list = soup.findAll('ul',attrs={'class':'_1xgFaf'})\n",
        "for i in range(len(ul_list)):\n",
        "  parts=ul_list[i].text\n",
        "  if \"Processor\" in parts:\n",
        "    processor.append(parts)\n",
        "  if \"Operating System\" in parts:\n",
        "    os.append(parts)\n",
        "  if \"SSD\" in parts:\n",
        "    SSD.append(parts)\n",
        "#print(processor)"
      ],
      "execution_count": null,
      "outputs": []
    },
    {
      "cell_type": "code",
      "metadata": {
        "colab": {
          "base_uri": "https://localhost:8080/",
          "height": 374
        },
        "id": "lxRxL5pZqVPB",
        "outputId": "ff0e2984-973a-43a3-ca95-2949782b745f"
      },
      "source": [
        "#Arrange the collected data in a dataframe\n",
        "data=pd.DataFrame({'Item Name':item,'Price':prices,'Specification':sp,\"Processor\":processor,'Operating System':os,\"SSD\":SSD})\n",
        "data"
      ],
      "execution_count": null,
      "outputs": [
        {
          "output_type": "execute_result",
          "data": {
            "text/html": [
              "<div>\n",
              "<style scoped>\n",
              "    .dataframe tbody tr th:only-of-type {\n",
              "        vertical-align: middle;\n",
              "    }\n",
              "\n",
              "    .dataframe tbody tr th {\n",
              "        vertical-align: top;\n",
              "    }\n",
              "\n",
              "    .dataframe thead th {\n",
              "        text-align: right;\n",
              "    }\n",
              "</style>\n",
              "<table border=\"1\" class=\"dataframe\">\n",
              "  <thead>\n",
              "    <tr style=\"text-align: right;\">\n",
              "      <th></th>\n",
              "      <th>Item Name</th>\n",
              "      <th>Price</th>\n",
              "      <th>Specification</th>\n",
              "      <th>Processor</th>\n",
              "      <th>Operating System</th>\n",
              "      <th>SSD</th>\n",
              "    </tr>\n",
              "  </thead>\n",
              "  <tbody>\n",
              "    <tr>\n",
              "      <th>0</th>\n",
              "      <td>APPLE MacBook Air M1 - (8 GB/256 GB SSD/Mac OS...</td>\n",
              "      <td>₹92,900</td>\n",
              "      <td>Apple M1 Processor8 GB DDR4 RAMMac OS Operatin...</td>\n",
              "      <td>Apple M1 Processor8 GB DDR4 RAMMac OS Operatin...</td>\n",
              "      <td>Apple M1 Processor8 GB DDR4 RAMMac OS Operatin...</td>\n",
              "      <td>Apple M1 Processor8 GB DDR4 RAMMac OS Operatin...</td>\n",
              "    </tr>\n",
              "    <tr>\n",
              "      <th>1</th>\n",
              "      <td>APPLE MacBook Air M1 - (8 GB/512 GB SSD/Mac OS...</td>\n",
              "      <td>₹1,14,990</td>\n",
              "      <td>Apple M1 Processor8 GB DDR4 RAMMac OS Operatin...</td>\n",
              "      <td>Apple M1 Processor8 GB DDR4 RAMMac OS Operatin...</td>\n",
              "      <td>Apple M1 Processor8 GB DDR4 RAMMac OS Operatin...</td>\n",
              "      <td>Apple M1 Processor8 GB DDR4 RAMMac OS Operatin...</td>\n",
              "    </tr>\n",
              "    <tr>\n",
              "      <th>2</th>\n",
              "      <td>APPLE MacBook Air Core i5 10th Gen - (8 GB/512...</td>\n",
              "      <td>₹97,990</td>\n",
              "      <td>Intel Core i5 Processor (10th Gen)8 GB LPDDR4X...</td>\n",
              "      <td>Intel Core i5 Processor (10th Gen)8 GB LPDDR4X...</td>\n",
              "      <td>Intel Core i5 Processor (10th Gen)8 GB LPDDR4X...</td>\n",
              "      <td>Intel Core i5 Processor (10th Gen)8 GB LPDDR4X...</td>\n",
              "    </tr>\n",
              "    <tr>\n",
              "      <th>3</th>\n",
              "      <td>APPLE MacBook Air M1 - (8 GB/512 GB SSD/Mac OS...</td>\n",
              "      <td>₹1,14,990</td>\n",
              "      <td>Apple M1 Processor8 GB DDR4 RAMMac OS Operatin...</td>\n",
              "      <td>Apple M1 Processor8 GB DDR4 RAMMac OS Operatin...</td>\n",
              "      <td>Apple M1 Processor8 GB DDR4 RAMMac OS Operatin...</td>\n",
              "      <td>Apple M1 Processor8 GB DDR4 RAMMac OS Operatin...</td>\n",
              "    </tr>\n",
              "    <tr>\n",
              "      <th>4</th>\n",
              "      <td>APPLE MacBook Air Core i5 10th Gen - (8 GB/256...</td>\n",
              "      <td>₹89,990</td>\n",
              "      <td>Intel Core i5 Processor (10th Gen)8 GB LPDDR4X...</td>\n",
              "      <td>Intel Core i5 Processor (10th Gen)8 GB LPDDR4X...</td>\n",
              "      <td>Intel Core i5 Processor (10th Gen)8 GB LPDDR4X...</td>\n",
              "      <td>Intel Core i5 Processor (10th Gen)8 GB LPDDR4X...</td>\n",
              "    </tr>\n",
              "    <tr>\n",
              "      <th>5</th>\n",
              "      <td>APPLE MacBook Air Core i5 10th Gen - (8 GB/512...</td>\n",
              "      <td>₹1,02,990</td>\n",
              "      <td>Intel Core i5 Processor (10th Gen)8 GB LPDDR4X...</td>\n",
              "      <td>Intel Core i5 Processor (10th Gen)8 GB LPDDR4X...</td>\n",
              "      <td>Intel Core i5 Processor (10th Gen)8 GB LPDDR4X...</td>\n",
              "      <td>Intel Core i5 Processor (10th Gen)8 GB LPDDR4X...</td>\n",
              "    </tr>\n",
              "    <tr>\n",
              "      <th>6</th>\n",
              "      <td>APPLE MacBook Air M1 - (8 GB/512 GB SSD/Mac OS...</td>\n",
              "      <td>₹1,14,990</td>\n",
              "      <td>Apple M1 Processor8 GB DDR4 RAMMac OS Operatin...</td>\n",
              "      <td>Apple M1 Processor8 GB DDR4 RAMMac OS Operatin...</td>\n",
              "      <td>Apple M1 Processor8 GB DDR4 RAMMac OS Operatin...</td>\n",
              "      <td>Apple M1 Processor8 GB DDR4 RAMMac OS Operatin...</td>\n",
              "    </tr>\n",
              "  </tbody>\n",
              "</table>\n",
              "</div>"
            ],
            "text/plain": [
              "                                           Item Name  ...                                                SSD\n",
              "0  APPLE MacBook Air M1 - (8 GB/256 GB SSD/Mac OS...  ...  Apple M1 Processor8 GB DDR4 RAMMac OS Operatin...\n",
              "1  APPLE MacBook Air M1 - (8 GB/512 GB SSD/Mac OS...  ...  Apple M1 Processor8 GB DDR4 RAMMac OS Operatin...\n",
              "2  APPLE MacBook Air Core i5 10th Gen - (8 GB/512...  ...  Intel Core i5 Processor (10th Gen)8 GB LPDDR4X...\n",
              "3  APPLE MacBook Air M1 - (8 GB/512 GB SSD/Mac OS...  ...  Apple M1 Processor8 GB DDR4 RAMMac OS Operatin...\n",
              "4  APPLE MacBook Air Core i5 10th Gen - (8 GB/256...  ...  Intel Core i5 Processor (10th Gen)8 GB LPDDR4X...\n",
              "5  APPLE MacBook Air Core i5 10th Gen - (8 GB/512...  ...  Intel Core i5 Processor (10th Gen)8 GB LPDDR4X...\n",
              "6  APPLE MacBook Air M1 - (8 GB/512 GB SSD/Mac OS...  ...  Apple M1 Processor8 GB DDR4 RAMMac OS Operatin...\n",
              "\n",
              "[7 rows x 6 columns]"
            ]
          },
          "metadata": {
            "tags": []
          },
          "execution_count": 38
        }
      ]
    },
    {
      "cell_type": "code",
      "metadata": {
        "id": "jhPhzynKrRLw"
      },
      "source": [
        "data.to_csv('FlipkartItem_data.csv',index=False)"
      ],
      "execution_count": null,
      "outputs": []
    },
    {
      "cell_type": "code",
      "metadata": {
        "id": "6XM5VGINnj6u"
      },
      "source": [
        "import time\n",
        "import requests"
      ],
      "execution_count": null,
      "outputs": []
    },
    {
      "cell_type": "code",
      "metadata": {
        "colab": {
          "base_uri": "https://localhost:8080/"
        },
        "id": "7USxWuhYwk0R",
        "outputId": "07737008-80ac-40aa-a807-63fd25d56383"
      },
      "source": [
        "baseurl='https://www.flipkart.com/q/apple-macbook-air&page='\n",
        "itemname=[]\n",
        "itemprice=[]\n",
        "specification=[]\n",
        "pro=[]\n",
        "oslp=[]\n",
        "ssdlp=[]\n",
        "page_no=int(input(\"Enter number of pages:\"))\n",
        "print(page_no)\n",
        "for i in range(1,page_no+1):\n",
        "  time.sleep(3)\n",
        "  print(baseurl+str(i)+'&=1624540184551')\n",
        "  req=requests.get(url)\n",
        "  soup=BeautifulSoup(req.text,'html')\n",
        "\n",
        "  for j in item:\n",
        "    itemname.append(j)\n",
        "  for j in prices:\n",
        "    itemprice.append(j)\n",
        "  for j in sp:\n",
        "    specification.append(j)\n",
        "  for j in processor:\n",
        "    pro.append(j)\n",
        "  for j in os:\n",
        "    oslp.append(j)\n",
        "  for j in SSD:\n",
        "    ssdlp.append(j)\n",
        "   "
      ],
      "execution_count": null,
      "outputs": [
        {
          "output_type": "stream",
          "text": [
            "Enter number of pages:10\n",
            "10\n",
            "https://www.flipkart.com/q/apple-macbook-air&page=1&=1624540184551\n",
            "https://www.flipkart.com/q/apple-macbook-air&page=2&=1624540184551\n",
            "https://www.flipkart.com/q/apple-macbook-air&page=3&=1624540184551\n",
            "https://www.flipkart.com/q/apple-macbook-air&page=4&=1624540184551\n",
            "https://www.flipkart.com/q/apple-macbook-air&page=5&=1624540184551\n",
            "https://www.flipkart.com/q/apple-macbook-air&page=6&=1624540184551\n",
            "https://www.flipkart.com/q/apple-macbook-air&page=7&=1624540184551\n",
            "https://www.flipkart.com/q/apple-macbook-air&page=8&=1624540184551\n",
            "https://www.flipkart.com/q/apple-macbook-air&page=9&=1624540184551\n",
            "https://www.flipkart.com/q/apple-macbook-air&page=10&=1624540184551\n"
          ],
          "name": "stdout"
        }
      ]
    },
    {
      "cell_type": "markdown",
      "metadata": {
        "id": "WQHBCtZvWPeC"
      },
      "source": [
        ""
      ]
    },
    {
      "cell_type": "code",
      "metadata": {
        "colab": {
          "base_uri": "https://localhost:8080/",
          "height": 590
        },
        "id": "8tfzyouQ1fOc",
        "outputId": "4ab3dc68-42d6-482a-bf6c-341ab7ce07fa"
      },
      "source": [
        "# Store the data in a data frame using Pandas library file\n",
        "data=pd.DataFrame({'Laptop Name': itemname,'Laptop Price':itemprice,'Specification':specification,'Processor':pro,'OS':oslp,'SSD':ssdlp})\n",
        "data \n"
      ],
      "execution_count": null,
      "outputs": [
        {
          "output_type": "execute_result",
          "data": {
            "text/html": [
              "<div>\n",
              "<style scoped>\n",
              "    .dataframe tbody tr th:only-of-type {\n",
              "        vertical-align: middle;\n",
              "    }\n",
              "\n",
              "    .dataframe tbody tr th {\n",
              "        vertical-align: top;\n",
              "    }\n",
              "\n",
              "    .dataframe thead th {\n",
              "        text-align: right;\n",
              "    }\n",
              "</style>\n",
              "<table border=\"1\" class=\"dataframe\">\n",
              "  <thead>\n",
              "    <tr style=\"text-align: right;\">\n",
              "      <th></th>\n",
              "      <th>Laptop Name</th>\n",
              "      <th>Laptop Price</th>\n",
              "      <th>Specification</th>\n",
              "      <th>Processor</th>\n",
              "      <th>OS</th>\n",
              "      <th>SSD</th>\n",
              "    </tr>\n",
              "  </thead>\n",
              "  <tbody>\n",
              "    <tr>\n",
              "      <th>0</th>\n",
              "      <td>APPLE MacBook Air M1 - (8 GB/256 GB SSD/Mac OS...</td>\n",
              "      <td>₹92,900</td>\n",
              "      <td>Apple M1 Processor8 GB DDR4 RAMMac OS Operatin...</td>\n",
              "      <td>Apple M1 Processor8 GB DDR4 RAMMac OS Operatin...</td>\n",
              "      <td>Apple M1 Processor8 GB DDR4 RAMMac OS Operatin...</td>\n",
              "      <td>Apple M1 Processor8 GB DDR4 RAMMac OS Operatin...</td>\n",
              "    </tr>\n",
              "    <tr>\n",
              "      <th>1</th>\n",
              "      <td>APPLE MacBook Air M1 - (8 GB/512 GB SSD/Mac OS...</td>\n",
              "      <td>₹1,14,990</td>\n",
              "      <td>Apple M1 Processor8 GB DDR4 RAMMac OS Operatin...</td>\n",
              "      <td>Apple M1 Processor8 GB DDR4 RAMMac OS Operatin...</td>\n",
              "      <td>Apple M1 Processor8 GB DDR4 RAMMac OS Operatin...</td>\n",
              "      <td>Apple M1 Processor8 GB DDR4 RAMMac OS Operatin...</td>\n",
              "    </tr>\n",
              "    <tr>\n",
              "      <th>2</th>\n",
              "      <td>APPLE MacBook Air Core i5 10th Gen - (8 GB/512...</td>\n",
              "      <td>₹97,990</td>\n",
              "      <td>Intel Core i5 Processor (10th Gen)8 GB LPDDR4X...</td>\n",
              "      <td>Intel Core i5 Processor (10th Gen)8 GB LPDDR4X...</td>\n",
              "      <td>Intel Core i5 Processor (10th Gen)8 GB LPDDR4X...</td>\n",
              "      <td>Intel Core i5 Processor (10th Gen)8 GB LPDDR4X...</td>\n",
              "    </tr>\n",
              "    <tr>\n",
              "      <th>3</th>\n",
              "      <td>APPLE MacBook Air M1 - (8 GB/512 GB SSD/Mac OS...</td>\n",
              "      <td>₹1,14,990</td>\n",
              "      <td>Apple M1 Processor8 GB DDR4 RAMMac OS Operatin...</td>\n",
              "      <td>Apple M1 Processor8 GB DDR4 RAMMac OS Operatin...</td>\n",
              "      <td>Apple M1 Processor8 GB DDR4 RAMMac OS Operatin...</td>\n",
              "      <td>Apple M1 Processor8 GB DDR4 RAMMac OS Operatin...</td>\n",
              "    </tr>\n",
              "    <tr>\n",
              "      <th>4</th>\n",
              "      <td>APPLE MacBook Air Core i5 10th Gen - (8 GB/256...</td>\n",
              "      <td>₹89,990</td>\n",
              "      <td>Intel Core i5 Processor (10th Gen)8 GB LPDDR4X...</td>\n",
              "      <td>Intel Core i5 Processor (10th Gen)8 GB LPDDR4X...</td>\n",
              "      <td>Intel Core i5 Processor (10th Gen)8 GB LPDDR4X...</td>\n",
              "      <td>Intel Core i5 Processor (10th Gen)8 GB LPDDR4X...</td>\n",
              "    </tr>\n",
              "    <tr>\n",
              "      <th>...</th>\n",
              "      <td>...</td>\n",
              "      <td>...</td>\n",
              "      <td>...</td>\n",
              "      <td>...</td>\n",
              "      <td>...</td>\n",
              "      <td>...</td>\n",
              "    </tr>\n",
              "    <tr>\n",
              "      <th>65</th>\n",
              "      <td>APPLE MacBook Air Core i5 10th Gen - (8 GB/512...</td>\n",
              "      <td>₹97,990</td>\n",
              "      <td>Intel Core i5 Processor (10th Gen)8 GB LPDDR4X...</td>\n",
              "      <td>Intel Core i5 Processor (10th Gen)8 GB LPDDR4X...</td>\n",
              "      <td>Intel Core i5 Processor (10th Gen)8 GB LPDDR4X...</td>\n",
              "      <td>Intel Core i5 Processor (10th Gen)8 GB LPDDR4X...</td>\n",
              "    </tr>\n",
              "    <tr>\n",
              "      <th>66</th>\n",
              "      <td>APPLE MacBook Air M1 - (8 GB/512 GB SSD/Mac OS...</td>\n",
              "      <td>₹1,14,990</td>\n",
              "      <td>Apple M1 Processor8 GB DDR4 RAMMac OS Operatin...</td>\n",
              "      <td>Apple M1 Processor8 GB DDR4 RAMMac OS Operatin...</td>\n",
              "      <td>Apple M1 Processor8 GB DDR4 RAMMac OS Operatin...</td>\n",
              "      <td>Apple M1 Processor8 GB DDR4 RAMMac OS Operatin...</td>\n",
              "    </tr>\n",
              "    <tr>\n",
              "      <th>67</th>\n",
              "      <td>APPLE MacBook Air Core i5 10th Gen - (8 GB/256...</td>\n",
              "      <td>₹89,990</td>\n",
              "      <td>Intel Core i5 Processor (10th Gen)8 GB LPDDR4X...</td>\n",
              "      <td>Intel Core i5 Processor (10th Gen)8 GB LPDDR4X...</td>\n",
              "      <td>Intel Core i5 Processor (10th Gen)8 GB LPDDR4X...</td>\n",
              "      <td>Intel Core i5 Processor (10th Gen)8 GB LPDDR4X...</td>\n",
              "    </tr>\n",
              "    <tr>\n",
              "      <th>68</th>\n",
              "      <td>APPLE MacBook Air Core i5 10th Gen - (8 GB/512...</td>\n",
              "      <td>₹1,02,990</td>\n",
              "      <td>Intel Core i5 Processor (10th Gen)8 GB LPDDR4X...</td>\n",
              "      <td>Intel Core i5 Processor (10th Gen)8 GB LPDDR4X...</td>\n",
              "      <td>Intel Core i5 Processor (10th Gen)8 GB LPDDR4X...</td>\n",
              "      <td>Intel Core i5 Processor (10th Gen)8 GB LPDDR4X...</td>\n",
              "    </tr>\n",
              "    <tr>\n",
              "      <th>69</th>\n",
              "      <td>APPLE MacBook Air M1 - (8 GB/512 GB SSD/Mac OS...</td>\n",
              "      <td>₹1,14,990</td>\n",
              "      <td>Apple M1 Processor8 GB DDR4 RAMMac OS Operatin...</td>\n",
              "      <td>Apple M1 Processor8 GB DDR4 RAMMac OS Operatin...</td>\n",
              "      <td>Apple M1 Processor8 GB DDR4 RAMMac OS Operatin...</td>\n",
              "      <td>Apple M1 Processor8 GB DDR4 RAMMac OS Operatin...</td>\n",
              "    </tr>\n",
              "  </tbody>\n",
              "</table>\n",
              "<p>70 rows × 6 columns</p>\n",
              "</div>"
            ],
            "text/plain": [
              "                                          Laptop Name  ...                                                SSD\n",
              "0   APPLE MacBook Air M1 - (8 GB/256 GB SSD/Mac OS...  ...  Apple M1 Processor8 GB DDR4 RAMMac OS Operatin...\n",
              "1   APPLE MacBook Air M1 - (8 GB/512 GB SSD/Mac OS...  ...  Apple M1 Processor8 GB DDR4 RAMMac OS Operatin...\n",
              "2   APPLE MacBook Air Core i5 10th Gen - (8 GB/512...  ...  Intel Core i5 Processor (10th Gen)8 GB LPDDR4X...\n",
              "3   APPLE MacBook Air M1 - (8 GB/512 GB SSD/Mac OS...  ...  Apple M1 Processor8 GB DDR4 RAMMac OS Operatin...\n",
              "4   APPLE MacBook Air Core i5 10th Gen - (8 GB/256...  ...  Intel Core i5 Processor (10th Gen)8 GB LPDDR4X...\n",
              "..                                                ...  ...                                                ...\n",
              "65  APPLE MacBook Air Core i5 10th Gen - (8 GB/512...  ...  Intel Core i5 Processor (10th Gen)8 GB LPDDR4X...\n",
              "66  APPLE MacBook Air M1 - (8 GB/512 GB SSD/Mac OS...  ...  Apple M1 Processor8 GB DDR4 RAMMac OS Operatin...\n",
              "67  APPLE MacBook Air Core i5 10th Gen - (8 GB/256...  ...  Intel Core i5 Processor (10th Gen)8 GB LPDDR4X...\n",
              "68  APPLE MacBook Air Core i5 10th Gen - (8 GB/512...  ...  Intel Core i5 Processor (10th Gen)8 GB LPDDR4X...\n",
              "69  APPLE MacBook Air M1 - (8 GB/512 GB SSD/Mac OS...  ...  Apple M1 Processor8 GB DDR4 RAMMac OS Operatin...\n",
              "\n",
              "[70 rows x 6 columns]"
            ]
          },
          "metadata": {
            "tags": []
          },
          "execution_count": 40
        }
      ]
    },
    {
      "cell_type": "code",
      "metadata": {
        "id": "RBKtiWPD7Geu"
      },
      "source": [
        "converting to csv file\n",
        "data.to_csv('Flipkart_laptop_data.csv',index=False)"
      ],
      "execution_count": null,
      "outputs": []
    }
  ]
}