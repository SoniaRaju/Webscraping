{
  "nbformat": 4,
  "nbformat_minor": 0,
  "metadata": {
    "colab": {
      "name": "Web Scraping-Flipkart.ipynb",
      "provenance": [],
      "collapsed_sections": [],
      "authorship_tag": "ABX9TyN3OsSClflC3LdSYtfmK9lJ",
      "include_colab_link": true
    },
    "kernelspec": {
      "name": "python3",
      "display_name": "Python 3"
    },
    "language_info": {
      "name": "python"
    }
  },
  "cells": [
    {
      "cell_type": "markdown",
      "metadata": {
        "id": "view-in-github",
        "colab_type": "text"
      },
      "source": [
        "<a href=\"https://colab.research.google.com/github/SoniaRaju/Webscraping/blob/main/Web_Scraping_Flipkart.ipynb\" target=\"_parent\"><img src=\"https://colab.research.google.com/assets/colab-badge.svg\" alt=\"Open In Colab\"/></a>"
      ]
    },
    {
      "cell_type": "markdown",
      "metadata": {
        "id": "BPbXEDbJvrQr"
      },
      "source": [
        "Objective:Scrap the **AppleMacbbok details** from Flipcart of multiple web pages\n",
        "Python libraries:-\n",
        "* Requests\n",
        "* BS4\n",
        "* Padas"
      ]
    },
    {
      "cell_type": "markdown",
      "metadata": {
        "id": "nF8peJ0a98EZ"
      },
      "source": [
        ""
      ]
    },
    {
      "cell_type": "code",
      "metadata": {
        "id": "yfgefq58U3oQ"
      },
      "source": [
        "import requests\n",
        "from bs4 import BeautifulSoup\n",
        "import pandas as pd\n",
        "import time"
      ],
      "execution_count": null,
      "outputs": []
    },
    {
      "cell_type": "code",
      "metadata": {
        "id": "-syNbxUTU4rm"
      },
      "source": [
        "url='https://www.flipkart.com/q/apple-macbook-air'\n",
        "req=requests.get(url)\n",
        "soup=BeautifulSoup(req.text,'html')"
      ],
      "execution_count": null,
      "outputs": []
    },
    {
      "cell_type": "code",
      "metadata": {
        "id": "ymVSS80QWNIy"
      },
      "source": [
        "item_name=soup.findAll('div',attrs={'class':'_4rR01T'})\n",
        "for i in item_name:\n",
        "  i.text"
      ],
      "execution_count": null,
      "outputs": []
    },
    {
      "cell_type": "code",
      "metadata": {
        "colab": {
          "base_uri": "https://localhost:8080/"
        },
        "id": "sC3JLPGO68Ol",
        "outputId": "ff294759-e0ae-41e8-fbf4-6e9a5338a9fc"
      },
      "source": [
        "len(item_name)"
      ],
      "execution_count": null,
      "outputs": [
        {
          "output_type": "execute_result",
          "data": {
            "text/plain": [
              "8"
            ]
          },
          "metadata": {
            "tags": []
          },
          "execution_count": 5
        }
      ]
    },
    {
      "cell_type": "code",
      "metadata": {
        "id": "mRtycHbfjPHU"
      },
      "source": [
        "item=[i.text for i in item_name]"
      ],
      "execution_count": null,
      "outputs": []
    },
    {
      "cell_type": "code",
      "metadata": {
        "colab": {
          "base_uri": "https://localhost:8080/"
        },
        "id": "s0E9BsB3jreQ",
        "outputId": "80c886b5-aaa6-4d3f-aaed-7159cf130444"
      },
      "source": [
        "len(item)"
      ],
      "execution_count": null,
      "outputs": [
        {
          "output_type": "execute_result",
          "data": {
            "text/plain": [
              "24"
            ]
          },
          "metadata": {
            "tags": []
          },
          "execution_count": 212
        }
      ]
    },
    {
      "cell_type": "code",
      "metadata": {
        "colab": {
          "base_uri": "https://localhost:8080/",
          "height": 35
        },
        "id": "fSMR0HECWNaO",
        "outputId": "a6de2fe1-e812-4861-eb67-a174bfe73a27"
      },
      "source": [
        "soup.find('div',attrs={'class':'_30jeq3 _1_WHN1'}).text\n"
      ],
      "execution_count": null,
      "outputs": [
        {
          "output_type": "execute_result",
          "data": {
            "application/vnd.google.colaboratory.intrinsic+json": {
              "type": "string"
            },
            "text/plain": [
              "'₹92,900'"
            ]
          },
          "metadata": {
            "tags": []
          },
          "execution_count": 7
        }
      ]
    },
    {
      "cell_type": "code",
      "metadata": {
        "colab": {
          "base_uri": "https://localhost:8080/"
        },
        "id": "BmncyK7ZauPa",
        "outputId": "931821d3-2c15-488a-aaa3-a6512912fb85"
      },
      "source": [
        "prices=[]\n",
        "item_price=soup.findAll('div',attrs={'class':'_30jeq3 _1_WHN1'})\n",
        "\n",
        "for i in item_price:\n",
        "   prices.append(i.text)\n",
        "print(prices)"
      ],
      "execution_count": null,
      "outputs": [
        {
          "output_type": "stream",
          "text": [
            "['₹92,900', '₹92,900', '₹1,14,990', '₹1,14,990', '₹92,990', '₹99,990', '₹1,14,990', '₹1,09,990']\n"
          ],
          "name": "stdout"
        }
      ]
    },
    {
      "cell_type": "code",
      "metadata": {
        "colab": {
          "base_uri": "https://localhost:8080/"
        },
        "id": "ZWvEv66P61QQ",
        "outputId": "4a27d5b2-b168-4ae0-c628-d5d6176b351e"
      },
      "source": [
        "len(prices)"
      ],
      "execution_count": null,
      "outputs": [
        {
          "output_type": "execute_result",
          "data": {
            "text/plain": [
              "8"
            ]
          },
          "metadata": {
            "tags": []
          },
          "execution_count": 10
        }
      ]
    },
    {
      "cell_type": "code",
      "metadata": {
        "colab": {
          "base_uri": "https://localhost:8080/",
          "height": 35
        },
        "id": "bNzLAb7mb7vl",
        "outputId": "e2b09546-1851-4c81-aa6f-0f7990e0dce7"
      },
      "source": [
        "soup.find('div',attrs={'class':'_3LWZlK'}).text    #Stars"
      ],
      "execution_count": null,
      "outputs": [
        {
          "output_type": "execute_result",
          "data": {
            "application/vnd.google.colaboratory.intrinsic+json": {
              "type": "string"
            },
            "text/plain": [
              "'4.7'"
            ]
          },
          "metadata": {
            "tags": []
          },
          "execution_count": 215
        }
      ]
    },
    {
      "cell_type": "code",
      "metadata": {
        "id": "xTFtPeyYd9_U"
      },
      "source": [
        "stars=soup.findAll('div',attrs={'class':'_3LWZlK'})\n",
        "for i in stars:\n",
        "  i.text\n",
        "star=[i.text for i in stars]"
      ],
      "execution_count": null,
      "outputs": []
    },
    {
      "cell_type": "code",
      "metadata": {
        "colab": {
          "base_uri": "https://localhost:8080/"
        },
        "id": "v73MsNve6sqS",
        "outputId": "c57e71a2-46cc-4da6-855c-562ed6fc4400"
      },
      "source": [
        "len(stars)"
      ],
      "execution_count": null,
      "outputs": [
        {
          "output_type": "execute_result",
          "data": {
            "text/plain": [
              "17"
            ]
          },
          "metadata": {
            "tags": []
          },
          "execution_count": 52
        }
      ]
    },
    {
      "cell_type": "code",
      "metadata": {
        "id": "ysNiY5XL6tG-"
      },
      "source": [
        ""
      ],
      "execution_count": null,
      "outputs": []
    },
    {
      "cell_type": "code",
      "metadata": {
        "colab": {
          "base_uri": "https://localhost:8080/",
          "height": 53
        },
        "id": "KTdfNx6If2lN",
        "outputId": "3864174f-346e-448c-aa5d-3268ae85d142"
      },
      "source": [
        "soup.find('div',attrs={'class':'fMghEO'}).text    #Specification"
      ],
      "execution_count": null,
      "outputs": [
        {
          "output_type": "execute_result",
          "data": {
            "application/vnd.google.colaboratory.intrinsic+json": {
              "type": "string"
            },
            "text/plain": [
              "'Apple M1 Processor8 GB DDR4 RAMMac OS Operating System256 GB SSD33.78 cm (13.3 inch) DisplayBuilt-in Apps: iMovie, Siri, GarageBand, Pages, Numbers, Photos, Keynote, Safari, Mail, FaceTime, Messages, Maps, Stocks, Home, Voice Memos, Notes, Calendar, Contacts, Reminders, Photo Booth, Preview, Books, App Store, Time Machine, TV, Music, Podcasts, Find My, QuickTime Player1 Year Limited Warra\\xadnty'"
            ]
          },
          "metadata": {
            "tags": []
          },
          "execution_count": 41
        }
      ]
    },
    {
      "cell_type": "code",
      "metadata": {
        "id": "0RRXdUrhf_vo"
      },
      "source": [
        "Specif=soup.findAll('div',attrs={'class':'fMghEO'})\n",
        "#for i in Specif:\n",
        " # print(i.text)"
      ],
      "execution_count": null,
      "outputs": []
    },
    {
      "cell_type": "code",
      "metadata": {
        "colab": {
          "base_uri": "https://localhost:8080/"
        },
        "id": "F1s_3wwe34KX",
        "outputId": "7e892092-9a9f-4a4b-fbe4-c8fa22ade891"
      },
      "source": [
        "specif=soup.findAll('div',attrs={'class':'fMghEO'})\n",
        "sp=[i.text for i in specif]\n",
        "sp\n",
        "  "
      ],
      "execution_count": null,
      "outputs": [
        {
          "output_type": "execute_result",
          "data": {
            "text/plain": [
              "['Apple M1 Processor8 GB DDR4 RAMMac OS Operating System256 GB SSD33.78 cm (13.3 inch) DisplayBuilt-in Apps: iMovie, Siri, GarageBand, Pages, Numbers, Photos, Keynote, Safari, Mail, FaceTime, Messages, Maps, Stocks, Home, Voice Memos, Notes, Calendar, Contacts, Reminders, Photo Booth, Preview, Books, App Store, Time Machine, TV, Music, Podcasts, Find My, QuickTime Player1 Year Limited Warra\\xadnty',\n",
              " 'Apple M1 Processor8 GB DDR4 RAMMac OS Operating System256 GB SSD33.78 cm (13.3 inch) DisplayBuilt-in Apps: iMovie, Siri, GarageBand, Pages, Numbers, Photos, Keynote, Safari, Mail, FaceTime, Messages, Maps, Stocks, Home, Voice Memos, Notes, Calendar, Contacts, Reminders, Photo Booth, Preview, Books, App Store, Time Machine, TV, Music, Podcasts, Find My, QuickTime Player1 Year Limited Warra\\xadnty',\n",
              " 'Apple M1 Processor8 GB DDR4 RAMMac OS Operating System512 GB SSD33.78 cm (13.3 inch) DisplayBuilt-in Apps: iMovie, Siri, GarageBand, Pages, Numbers, Photos, Keynote, Safari, Mail, FaceTime, Messages, Maps, Stocks, Home, Voice Memos, Notes, Calendar, Contacts, Reminders, Photo Booth, Preview, Books, App Store, Time Machine, TV, Music, Podcasts, Find My, QuickTime Player1 Year Limited Warra\\xadnty',\n",
              " 'Apple M1 Processor8 GB DDR4 RAMMac OS Operating System512 GB SSD33.78 cm (13.3 inch) DisplayBuilt-in Apps: iMovie, Siri, GarageBand, Pages, Numbers, Photos, Keynote, Safari, Mail, FaceTime, Messages, Maps, Stocks, Home, Voice Memos, Notes, Calendar, Contacts, Reminders, Photo Booth, Preview, Books, App Store, Time Machine, TV, Music, Podcasts, Find My, QuickTime Player1 Year Limited Warra\\xadnty',\n",
              " 'Intel Core i5 Processor (10th Gen)8 GB LPDDR4X RAMMac OS Operating System256 GB SSD33.78 cm (13.3 inch) DisplayBuilt-in Apps: Photos, iMovie, GarageBand, Pages, Numbers, Keynote, Siri, Safari, Mail, FaceTime, Messages, Maps, News, Stocks, Home, Voice Memos, Notes, Calendar, Contacts, Reminders, Photo Booth, Preview, Books, App Store, Time Machine, TV, Music, Podcasts, Find My, QuickTime Player1 Year Limited Warranty',\n",
              " 'Intel Core i5 Processor (10th Gen)8 GB LPDDR4X RAMMac OS Operating System512 GB SSD33.78 cm (13.3 inch) DisplayBuilt-in Apps: Photos, iMovie, GarageBand, Pages, Numbers, Keynote, Siri, Safari, Mail, FaceTime, Messages, Maps, News, Stocks, Home, Voice Memos, Notes, Calendar, Contacts, Reminders, Photo Booth, Preview, Books, App Store, Time Machine, TV, Music, Podcasts, Find My, QuickTime Player1 Year Limited Warranty',\n",
              " 'Apple M1 Processor8 GB DDR4 RAMMac OS Operating System512 GB SSD33.78 cm (13.3 inch) DisplayBuilt-in Apps: iMovie, Siri, GarageBand, Pages, Numbers, Photos, Keynote, Safari, Mail, FaceTime, Messages, Maps, Stocks, Home, Voice Memos, Notes, Calendar, Contacts, Reminders, Photo Booth, Preview, Books, App Store, Time Machine, TV, Music, Podcasts, Find My, QuickTime Player1 Year Limited Warra\\xadnty',\n",
              " 'Intel Core i5 Processor (10th Gen)8 GB LPDDR4X RAMMac OS Operating System512 GB SSD33.78 cm (13.3 inch) DisplayBuilt-in Apps: Photos, iMovie, GarageBand, Pages, Numbers, Keynote, Siri, Safari, Mail, FaceTime, Messages, Maps, News, Stocks, Home, Voice Memos, Notes, Calendar, Contacts, Reminders, Photo Booth, Preview, Books, App Store, Time Machine, TV, Music, Podcasts, Find My, QuickTime Player1 Year Limited Warranty']"
            ]
          },
          "metadata": {
            "tags": []
          },
          "execution_count": 43
        }
      ]
    },
    {
      "cell_type": "code",
      "metadata": {
        "id": "QFprhe6ot2il",
        "colab": {
          "base_uri": "https://localhost:8080/",
          "height": 35
        },
        "outputId": "5d7c7462-4f15-48d8-921e-880397dc2ad8"
      },
      "source": [
        "ul_list = soup.find('ul',attrs={'class':'_1xgFaf'})\n",
        "ul_list.findAll('li')[0].text\n",
        "ul_list.findAll('li')[-1].text\n"
      ],
      "execution_count": null,
      "outputs": [
        {
          "output_type": "execute_result",
          "data": {
            "application/vnd.google.colaboratory.intrinsic+json": {
              "type": "string"
            },
            "text/plain": [
              "'1 Year Limited Warra\\xadnty'"
            ]
          },
          "metadata": {
            "tags": []
          },
          "execution_count": 15
        }
      ]
    },
    {
      "cell_type": "code",
      "metadata": {
        "id": "gTK8UneWgatR"
      },
      "source": [
        "processor=[]\n",
        "os=[]\n",
        "SSD=[]\n",
        "\n",
        "ul_list = soup.findAll('ul',attrs={'class':'_1xgFaf'})\n",
        "for i in range(len(ul_list)):\n",
        "  parts=ul_list[i].text\n",
        "  if \"Processor\" in parts:\n",
        "    processor.append(parts)\n",
        "  if \"Operating System\" in parts:\n",
        "    os.append(parts)\n",
        "  if \"SSD\" in parts:\n",
        "    SSD.append(parts)\n",
        "#print(processor)"
      ],
      "execution_count": null,
      "outputs": []
    },
    {
      "cell_type": "code",
      "metadata": {
        "colab": {
          "base_uri": "https://localhost:8080/",
          "height": 421
        },
        "id": "lxRxL5pZqVPB",
        "outputId": "5bd7bcc2-eef3-4efe-c063-4e8bf21305f6"
      },
      "source": [
        "data=pd.DataFrame({'Item Name':item,'Price':prices,'Specification':sp,\"Processor\":processor,'Operating System':os,\"SSD\":SSD})\n",
        "data"
      ],
      "execution_count": null,
      "outputs": [
        {
          "output_type": "execute_result",
          "data": {
            "text/html": [
              "<div>\n",
              "<style scoped>\n",
              "    .dataframe tbody tr th:only-of-type {\n",
              "        vertical-align: middle;\n",
              "    }\n",
              "\n",
              "    .dataframe tbody tr th {\n",
              "        vertical-align: top;\n",
              "    }\n",
              "\n",
              "    .dataframe thead th {\n",
              "        text-align: right;\n",
              "    }\n",
              "</style>\n",
              "<table border=\"1\" class=\"dataframe\">\n",
              "  <thead>\n",
              "    <tr style=\"text-align: right;\">\n",
              "      <th></th>\n",
              "      <th>Item Name</th>\n",
              "      <th>Price</th>\n",
              "      <th>Specification</th>\n",
              "      <th>Processor</th>\n",
              "      <th>Operating System</th>\n",
              "      <th>SSD</th>\n",
              "    </tr>\n",
              "  </thead>\n",
              "  <tbody>\n",
              "    <tr>\n",
              "      <th>0</th>\n",
              "      <td>APPLE MacBook Air M1 - (8 GB/256 GB SSD/Mac OS...</td>\n",
              "      <td>₹92,900</td>\n",
              "      <td>Apple M1 Processor8 GB DDR4 RAMMac OS Operatin...</td>\n",
              "      <td>Apple M1 Processor8 GB DDR4 RAMMac OS Operatin...</td>\n",
              "      <td>Apple M1 Processor8 GB DDR4 RAMMac OS Operatin...</td>\n",
              "      <td>Apple M1 Processor8 GB DDR4 RAMMac OS Operatin...</td>\n",
              "    </tr>\n",
              "    <tr>\n",
              "      <th>1</th>\n",
              "      <td>APPLE MacBook Air M1 - (8 GB/256 GB SSD/Mac OS...</td>\n",
              "      <td>₹92,900</td>\n",
              "      <td>Apple M1 Processor8 GB DDR4 RAMMac OS Operatin...</td>\n",
              "      <td>Apple M1 Processor8 GB DDR4 RAMMac OS Operatin...</td>\n",
              "      <td>Apple M1 Processor8 GB DDR4 RAMMac OS Operatin...</td>\n",
              "      <td>Apple M1 Processor8 GB DDR4 RAMMac OS Operatin...</td>\n",
              "    </tr>\n",
              "    <tr>\n",
              "      <th>2</th>\n",
              "      <td>APPLE MacBook Air M1 - (8 GB/512 GB SSD/Mac OS...</td>\n",
              "      <td>₹1,14,990</td>\n",
              "      <td>Apple M1 Processor8 GB DDR4 RAMMac OS Operatin...</td>\n",
              "      <td>Apple M1 Processor8 GB DDR4 RAMMac OS Operatin...</td>\n",
              "      <td>Apple M1 Processor8 GB DDR4 RAMMac OS Operatin...</td>\n",
              "      <td>Apple M1 Processor8 GB DDR4 RAMMac OS Operatin...</td>\n",
              "    </tr>\n",
              "    <tr>\n",
              "      <th>3</th>\n",
              "      <td>APPLE MacBook Air M1 - (8 GB/512 GB SSD/Mac OS...</td>\n",
              "      <td>₹1,14,990</td>\n",
              "      <td>Apple M1 Processor8 GB DDR4 RAMMac OS Operatin...</td>\n",
              "      <td>Apple M1 Processor8 GB DDR4 RAMMac OS Operatin...</td>\n",
              "      <td>Apple M1 Processor8 GB DDR4 RAMMac OS Operatin...</td>\n",
              "      <td>Apple M1 Processor8 GB DDR4 RAMMac OS Operatin...</td>\n",
              "    </tr>\n",
              "    <tr>\n",
              "      <th>4</th>\n",
              "      <td>APPLE MacBook Air Core i5 10th Gen - (8 GB/256...</td>\n",
              "      <td>₹92,990</td>\n",
              "      <td>Intel Core i5 Processor (10th Gen)8 GB LPDDR4X...</td>\n",
              "      <td>Intel Core i5 Processor (10th Gen)8 GB LPDDR4X...</td>\n",
              "      <td>Intel Core i5 Processor (10th Gen)8 GB LPDDR4X...</td>\n",
              "      <td>Intel Core i5 Processor (10th Gen)8 GB LPDDR4X...</td>\n",
              "    </tr>\n",
              "    <tr>\n",
              "      <th>5</th>\n",
              "      <td>APPLE MacBook Air Core i5 10th Gen - (8 GB/512...</td>\n",
              "      <td>₹99,990</td>\n",
              "      <td>Intel Core i5 Processor (10th Gen)8 GB LPDDR4X...</td>\n",
              "      <td>Intel Core i5 Processor (10th Gen)8 GB LPDDR4X...</td>\n",
              "      <td>Intel Core i5 Processor (10th Gen)8 GB LPDDR4X...</td>\n",
              "      <td>Intel Core i5 Processor (10th Gen)8 GB LPDDR4X...</td>\n",
              "    </tr>\n",
              "    <tr>\n",
              "      <th>6</th>\n",
              "      <td>APPLE MacBook Air M1 - (8 GB/512 GB SSD/Mac OS...</td>\n",
              "      <td>₹1,14,990</td>\n",
              "      <td>Apple M1 Processor8 GB DDR4 RAMMac OS Operatin...</td>\n",
              "      <td>Apple M1 Processor8 GB DDR4 RAMMac OS Operatin...</td>\n",
              "      <td>Apple M1 Processor8 GB DDR4 RAMMac OS Operatin...</td>\n",
              "      <td>Apple M1 Processor8 GB DDR4 RAMMac OS Operatin...</td>\n",
              "    </tr>\n",
              "    <tr>\n",
              "      <th>7</th>\n",
              "      <td>APPLE MacBook Air Core i5 10th Gen - (8 GB/512...</td>\n",
              "      <td>₹1,09,990</td>\n",
              "      <td>Intel Core i5 Processor (10th Gen)8 GB LPDDR4X...</td>\n",
              "      <td>Intel Core i5 Processor (10th Gen)8 GB LPDDR4X...</td>\n",
              "      <td>Intel Core i5 Processor (10th Gen)8 GB LPDDR4X...</td>\n",
              "      <td>Intel Core i5 Processor (10th Gen)8 GB LPDDR4X...</td>\n",
              "    </tr>\n",
              "  </tbody>\n",
              "</table>\n",
              "</div>"
            ],
            "text/plain": [
              "                                           Item Name  ...                                                SSD\n",
              "0  APPLE MacBook Air M1 - (8 GB/256 GB SSD/Mac OS...  ...  Apple M1 Processor8 GB DDR4 RAMMac OS Operatin...\n",
              "1  APPLE MacBook Air M1 - (8 GB/256 GB SSD/Mac OS...  ...  Apple M1 Processor8 GB DDR4 RAMMac OS Operatin...\n",
              "2  APPLE MacBook Air M1 - (8 GB/512 GB SSD/Mac OS...  ...  Apple M1 Processor8 GB DDR4 RAMMac OS Operatin...\n",
              "3  APPLE MacBook Air M1 - (8 GB/512 GB SSD/Mac OS...  ...  Apple M1 Processor8 GB DDR4 RAMMac OS Operatin...\n",
              "4  APPLE MacBook Air Core i5 10th Gen - (8 GB/256...  ...  Intel Core i5 Processor (10th Gen)8 GB LPDDR4X...\n",
              "5  APPLE MacBook Air Core i5 10th Gen - (8 GB/512...  ...  Intel Core i5 Processor (10th Gen)8 GB LPDDR4X...\n",
              "6  APPLE MacBook Air M1 - (8 GB/512 GB SSD/Mac OS...  ...  Apple M1 Processor8 GB DDR4 RAMMac OS Operatin...\n",
              "7  APPLE MacBook Air Core i5 10th Gen - (8 GB/512...  ...  Intel Core i5 Processor (10th Gen)8 GB LPDDR4X...\n",
              "\n",
              "[8 rows x 6 columns]"
            ]
          },
          "metadata": {
            "tags": []
          },
          "execution_count": 17
        }
      ]
    },
    {
      "cell_type": "code",
      "metadata": {
        "id": "jhPhzynKrRLw"
      },
      "source": [
        "data.to_csv('FlipkartItem_data.csv',index=False)"
      ],
      "execution_count": null,
      "outputs": []
    },
    {
      "cell_type": "code",
      "metadata": {
        "id": "6XM5VGINnj6u"
      },
      "source": [
        "import time\n",
        "import requests"
      ],
      "execution_count": null,
      "outputs": []
    },
    {
      "cell_type": "code",
      "metadata": {
        "colab": {
          "base_uri": "https://localhost:8080/"
        },
        "id": "7USxWuhYwk0R",
        "outputId": "ce45ecc9-1700-453f-c9c9-2243a0dee1f4"
      },
      "source": [
        "baseurl='https://www.flipkart.com/q/apple-macbook-air&page='\n",
        "itemname=[]\n",
        "itemprice=[]\n",
        "specification=[]\n",
        "pro=[]\n",
        "oslp=[]\n",
        "ssdlp=[]\n",
        "page_no=int(input(\"Enter number of pages:\"))\n",
        "print(page_no)\n",
        "for i in range(1,page_no+1):\n",
        "  time.sleep(3)\n",
        "  print(baseurl+str(i)+'&=1624540184551')\n",
        "  req=requests.get(url)\n",
        "  soup=BeautifulSoup(req.text,'html')\n",
        "  print(item)\n",
        "  \n",
        "  for j in item:\n",
        "    itemname.append(j)\n",
        "  for j in prices:\n",
        "    itemprice.append(j)\n",
        "  for j in sp:\n",
        "    specification.append(j)\n",
        "  for j in processor:\n",
        "    pro.append(j)\n",
        "  for j in os:\n",
        "    oslp.append(j)\n",
        "  for j in SSD:\n",
        "    ssdlp.append(j)\n",
        "   "
      ],
      "execution_count": null,
      "outputs": [
        {
          "output_type": "stream",
          "text": [
            "Enter number of pages:10\n",
            "10\n",
            "https://www.flipkart.com/q/apple-macbook-air&page=1&=1624540184551\n",
            "['APPLE MacBook Air M1 - (8 GB/256 GB SSD/Mac OS Big Sur) MGN63HN/A', 'APPLE MacBook Air M1 - (8 GB/256 GB SSD/Mac OS Big Sur) MGND3HN/A', 'APPLE MacBook Air M1 - (8 GB/512 GB SSD/Mac OS Big Sur) MGN73HN/A', 'APPLE MacBook Air M1 - (8 GB/512 GB SSD/Mac OS Big Sur) MGNE3HN/A', 'APPLE MacBook Air Core i5 10th Gen - (8 GB/256 GB SSD/Mac OS Catalina) Z0YJ001KD', 'APPLE MacBook Air Core i5 10th Gen - (8 GB/512 GB SSD/Mac OS Catalina) MVH52HN/A', 'APPLE MacBook Air M1 - (8 GB/512 GB SSD/Mac OS Big Sur) MGNA3HN/A', 'APPLE MacBook Air Core i5 10th Gen - (8 GB/512 GB SSD/Mac OS Catalina) MVH22HN/A']\n",
            "https://www.flipkart.com/q/apple-macbook-air&page=2&=1624540184551\n",
            "['APPLE MacBook Air M1 - (8 GB/256 GB SSD/Mac OS Big Sur) MGN63HN/A', 'APPLE MacBook Air M1 - (8 GB/256 GB SSD/Mac OS Big Sur) MGND3HN/A', 'APPLE MacBook Air M1 - (8 GB/512 GB SSD/Mac OS Big Sur) MGN73HN/A', 'APPLE MacBook Air M1 - (8 GB/512 GB SSD/Mac OS Big Sur) MGNE3HN/A', 'APPLE MacBook Air Core i5 10th Gen - (8 GB/256 GB SSD/Mac OS Catalina) Z0YJ001KD', 'APPLE MacBook Air Core i5 10th Gen - (8 GB/512 GB SSD/Mac OS Catalina) MVH52HN/A', 'APPLE MacBook Air M1 - (8 GB/512 GB SSD/Mac OS Big Sur) MGNA3HN/A', 'APPLE MacBook Air Core i5 10th Gen - (8 GB/512 GB SSD/Mac OS Catalina) MVH22HN/A']\n",
            "https://www.flipkart.com/q/apple-macbook-air&page=3&=1624540184551\n",
            "['APPLE MacBook Air M1 - (8 GB/256 GB SSD/Mac OS Big Sur) MGN63HN/A', 'APPLE MacBook Air M1 - (8 GB/256 GB SSD/Mac OS Big Sur) MGND3HN/A', 'APPLE MacBook Air M1 - (8 GB/512 GB SSD/Mac OS Big Sur) MGN73HN/A', 'APPLE MacBook Air M1 - (8 GB/512 GB SSD/Mac OS Big Sur) MGNE3HN/A', 'APPLE MacBook Air Core i5 10th Gen - (8 GB/256 GB SSD/Mac OS Catalina) Z0YJ001KD', 'APPLE MacBook Air Core i5 10th Gen - (8 GB/512 GB SSD/Mac OS Catalina) MVH52HN/A', 'APPLE MacBook Air M1 - (8 GB/512 GB SSD/Mac OS Big Sur) MGNA3HN/A', 'APPLE MacBook Air Core i5 10th Gen - (8 GB/512 GB SSD/Mac OS Catalina) MVH22HN/A']\n",
            "https://www.flipkart.com/q/apple-macbook-air&page=4&=1624540184551\n",
            "['APPLE MacBook Air M1 - (8 GB/256 GB SSD/Mac OS Big Sur) MGN63HN/A', 'APPLE MacBook Air M1 - (8 GB/256 GB SSD/Mac OS Big Sur) MGND3HN/A', 'APPLE MacBook Air M1 - (8 GB/512 GB SSD/Mac OS Big Sur) MGN73HN/A', 'APPLE MacBook Air M1 - (8 GB/512 GB SSD/Mac OS Big Sur) MGNE3HN/A', 'APPLE MacBook Air Core i5 10th Gen - (8 GB/256 GB SSD/Mac OS Catalina) Z0YJ001KD', 'APPLE MacBook Air Core i5 10th Gen - (8 GB/512 GB SSD/Mac OS Catalina) MVH52HN/A', 'APPLE MacBook Air M1 - (8 GB/512 GB SSD/Mac OS Big Sur) MGNA3HN/A', 'APPLE MacBook Air Core i5 10th Gen - (8 GB/512 GB SSD/Mac OS Catalina) MVH22HN/A']\n",
            "https://www.flipkart.com/q/apple-macbook-air&page=5&=1624540184551\n",
            "['APPLE MacBook Air M1 - (8 GB/256 GB SSD/Mac OS Big Sur) MGN63HN/A', 'APPLE MacBook Air M1 - (8 GB/256 GB SSD/Mac OS Big Sur) MGND3HN/A', 'APPLE MacBook Air M1 - (8 GB/512 GB SSD/Mac OS Big Sur) MGN73HN/A', 'APPLE MacBook Air M1 - (8 GB/512 GB SSD/Mac OS Big Sur) MGNE3HN/A', 'APPLE MacBook Air Core i5 10th Gen - (8 GB/256 GB SSD/Mac OS Catalina) Z0YJ001KD', 'APPLE MacBook Air Core i5 10th Gen - (8 GB/512 GB SSD/Mac OS Catalina) MVH52HN/A', 'APPLE MacBook Air M1 - (8 GB/512 GB SSD/Mac OS Big Sur) MGNA3HN/A', 'APPLE MacBook Air Core i5 10th Gen - (8 GB/512 GB SSD/Mac OS Catalina) MVH22HN/A']\n",
            "https://www.flipkart.com/q/apple-macbook-air&page=6&=1624540184551\n",
            "['APPLE MacBook Air M1 - (8 GB/256 GB SSD/Mac OS Big Sur) MGN63HN/A', 'APPLE MacBook Air M1 - (8 GB/256 GB SSD/Mac OS Big Sur) MGND3HN/A', 'APPLE MacBook Air M1 - (8 GB/512 GB SSD/Mac OS Big Sur) MGN73HN/A', 'APPLE MacBook Air M1 - (8 GB/512 GB SSD/Mac OS Big Sur) MGNE3HN/A', 'APPLE MacBook Air Core i5 10th Gen - (8 GB/256 GB SSD/Mac OS Catalina) Z0YJ001KD', 'APPLE MacBook Air Core i5 10th Gen - (8 GB/512 GB SSD/Mac OS Catalina) MVH52HN/A', 'APPLE MacBook Air M1 - (8 GB/512 GB SSD/Mac OS Big Sur) MGNA3HN/A', 'APPLE MacBook Air Core i5 10th Gen - (8 GB/512 GB SSD/Mac OS Catalina) MVH22HN/A']\n",
            "https://www.flipkart.com/q/apple-macbook-air&page=7&=1624540184551\n",
            "['APPLE MacBook Air M1 - (8 GB/256 GB SSD/Mac OS Big Sur) MGN63HN/A', 'APPLE MacBook Air M1 - (8 GB/256 GB SSD/Mac OS Big Sur) MGND3HN/A', 'APPLE MacBook Air M1 - (8 GB/512 GB SSD/Mac OS Big Sur) MGN73HN/A', 'APPLE MacBook Air M1 - (8 GB/512 GB SSD/Mac OS Big Sur) MGNE3HN/A', 'APPLE MacBook Air Core i5 10th Gen - (8 GB/256 GB SSD/Mac OS Catalina) Z0YJ001KD', 'APPLE MacBook Air Core i5 10th Gen - (8 GB/512 GB SSD/Mac OS Catalina) MVH52HN/A', 'APPLE MacBook Air M1 - (8 GB/512 GB SSD/Mac OS Big Sur) MGNA3HN/A', 'APPLE MacBook Air Core i5 10th Gen - (8 GB/512 GB SSD/Mac OS Catalina) MVH22HN/A']\n",
            "https://www.flipkart.com/q/apple-macbook-air&page=8&=1624540184551\n",
            "['APPLE MacBook Air M1 - (8 GB/256 GB SSD/Mac OS Big Sur) MGN63HN/A', 'APPLE MacBook Air M1 - (8 GB/256 GB SSD/Mac OS Big Sur) MGND3HN/A', 'APPLE MacBook Air M1 - (8 GB/512 GB SSD/Mac OS Big Sur) MGN73HN/A', 'APPLE MacBook Air M1 - (8 GB/512 GB SSD/Mac OS Big Sur) MGNE3HN/A', 'APPLE MacBook Air Core i5 10th Gen - (8 GB/256 GB SSD/Mac OS Catalina) Z0YJ001KD', 'APPLE MacBook Air Core i5 10th Gen - (8 GB/512 GB SSD/Mac OS Catalina) MVH52HN/A', 'APPLE MacBook Air M1 - (8 GB/512 GB SSD/Mac OS Big Sur) MGNA3HN/A', 'APPLE MacBook Air Core i5 10th Gen - (8 GB/512 GB SSD/Mac OS Catalina) MVH22HN/A']\n",
            "https://www.flipkart.com/q/apple-macbook-air&page=9&=1624540184551\n",
            "['APPLE MacBook Air M1 - (8 GB/256 GB SSD/Mac OS Big Sur) MGN63HN/A', 'APPLE MacBook Air M1 - (8 GB/256 GB SSD/Mac OS Big Sur) MGND3HN/A', 'APPLE MacBook Air M1 - (8 GB/512 GB SSD/Mac OS Big Sur) MGN73HN/A', 'APPLE MacBook Air M1 - (8 GB/512 GB SSD/Mac OS Big Sur) MGNE3HN/A', 'APPLE MacBook Air Core i5 10th Gen - (8 GB/256 GB SSD/Mac OS Catalina) Z0YJ001KD', 'APPLE MacBook Air Core i5 10th Gen - (8 GB/512 GB SSD/Mac OS Catalina) MVH52HN/A', 'APPLE MacBook Air M1 - (8 GB/512 GB SSD/Mac OS Big Sur) MGNA3HN/A', 'APPLE MacBook Air Core i5 10th Gen - (8 GB/512 GB SSD/Mac OS Catalina) MVH22HN/A']\n",
            "https://www.flipkart.com/q/apple-macbook-air&page=10&=1624540184551\n",
            "['APPLE MacBook Air M1 - (8 GB/256 GB SSD/Mac OS Big Sur) MGN63HN/A', 'APPLE MacBook Air M1 - (8 GB/256 GB SSD/Mac OS Big Sur) MGND3HN/A', 'APPLE MacBook Air M1 - (8 GB/512 GB SSD/Mac OS Big Sur) MGN73HN/A', 'APPLE MacBook Air M1 - (8 GB/512 GB SSD/Mac OS Big Sur) MGNE3HN/A', 'APPLE MacBook Air Core i5 10th Gen - (8 GB/256 GB SSD/Mac OS Catalina) Z0YJ001KD', 'APPLE MacBook Air Core i5 10th Gen - (8 GB/512 GB SSD/Mac OS Catalina) MVH52HN/A', 'APPLE MacBook Air M1 - (8 GB/512 GB SSD/Mac OS Big Sur) MGNA3HN/A', 'APPLE MacBook Air Core i5 10th Gen - (8 GB/512 GB SSD/Mac OS Catalina) MVH22HN/A']\n"
          ],
          "name": "stdout"
        }
      ]
    },
    {
      "cell_type": "code",
      "metadata": {
        "colab": {
          "base_uri": "https://localhost:8080/",
          "height": 1000
        },
        "id": "8tfzyouQ1fOc",
        "outputId": "662e15a0-d677-4b20-9185-57951bedb583"
      },
      "source": [
        "data=pd.DataFrame({'Laptop Name': itemname,'Laptop Price':itemprice,'Specification':specification,'Processor':pro,'OS':oslp,'SSD':ssdlp})\n",
        "data \n"
      ],
      "execution_count": null,
      "outputs": [
        {
          "output_type": "execute_result",
          "data": {
            "text/html": [
              "<div>\n",
              "<style scoped>\n",
              "    .dataframe tbody tr th:only-of-type {\n",
              "        vertical-align: middle;\n",
              "    }\n",
              "\n",
              "    .dataframe tbody tr th {\n",
              "        vertical-align: top;\n",
              "    }\n",
              "\n",
              "    .dataframe thead th {\n",
              "        text-align: right;\n",
              "    }\n",
              "</style>\n",
              "<table border=\"1\" class=\"dataframe\">\n",
              "  <thead>\n",
              "    <tr style=\"text-align: right;\">\n",
              "      <th></th>\n",
              "      <th>Laptop Name</th>\n",
              "      <th>Laptop Price</th>\n",
              "      <th>Specification</th>\n",
              "      <th>Processor</th>\n",
              "      <th>OS</th>\n",
              "      <th>SSD</th>\n",
              "    </tr>\n",
              "  </thead>\n",
              "  <tbody>\n",
              "    <tr>\n",
              "      <th>0</th>\n",
              "      <td>APPLE MacBook Air M1 - (8 GB/256 GB SSD/Mac OS...</td>\n",
              "      <td>₹92,900</td>\n",
              "      <td>Apple M1 Processor8 GB DDR4 RAMMac OS Operatin...</td>\n",
              "      <td>Apple M1 Processor8 GB DDR4 RAMMac OS Operatin...</td>\n",
              "      <td>Apple M1 Processor8 GB DDR4 RAMMac OS Operatin...</td>\n",
              "      <td>Apple M1 Processor8 GB DDR4 RAMMac OS Operatin...</td>\n",
              "    </tr>\n",
              "    <tr>\n",
              "      <th>1</th>\n",
              "      <td>APPLE MacBook Air M1 - (8 GB/256 GB SSD/Mac OS...</td>\n",
              "      <td>₹92,900</td>\n",
              "      <td>Apple M1 Processor8 GB DDR4 RAMMac OS Operatin...</td>\n",
              "      <td>Apple M1 Processor8 GB DDR4 RAMMac OS Operatin...</td>\n",
              "      <td>Apple M1 Processor8 GB DDR4 RAMMac OS Operatin...</td>\n",
              "      <td>Apple M1 Processor8 GB DDR4 RAMMac OS Operatin...</td>\n",
              "    </tr>\n",
              "    <tr>\n",
              "      <th>2</th>\n",
              "      <td>APPLE MacBook Air M1 - (8 GB/512 GB SSD/Mac OS...</td>\n",
              "      <td>₹1,14,990</td>\n",
              "      <td>Apple M1 Processor8 GB DDR4 RAMMac OS Operatin...</td>\n",
              "      <td>Apple M1 Processor8 GB DDR4 RAMMac OS Operatin...</td>\n",
              "      <td>Apple M1 Processor8 GB DDR4 RAMMac OS Operatin...</td>\n",
              "      <td>Apple M1 Processor8 GB DDR4 RAMMac OS Operatin...</td>\n",
              "    </tr>\n",
              "    <tr>\n",
              "      <th>3</th>\n",
              "      <td>APPLE MacBook Air M1 - (8 GB/512 GB SSD/Mac OS...</td>\n",
              "      <td>₹1,14,990</td>\n",
              "      <td>Apple M1 Processor8 GB DDR4 RAMMac OS Operatin...</td>\n",
              "      <td>Apple M1 Processor8 GB DDR4 RAMMac OS Operatin...</td>\n",
              "      <td>Apple M1 Processor8 GB DDR4 RAMMac OS Operatin...</td>\n",
              "      <td>Apple M1 Processor8 GB DDR4 RAMMac OS Operatin...</td>\n",
              "    </tr>\n",
              "    <tr>\n",
              "      <th>4</th>\n",
              "      <td>APPLE MacBook Air Core i5 10th Gen - (8 GB/256...</td>\n",
              "      <td>₹92,990</td>\n",
              "      <td>Intel Core i5 Processor (10th Gen)8 GB LPDDR4X...</td>\n",
              "      <td>Intel Core i5 Processor (10th Gen)8 GB LPDDR4X...</td>\n",
              "      <td>Intel Core i5 Processor (10th Gen)8 GB LPDDR4X...</td>\n",
              "      <td>Intel Core i5 Processor (10th Gen)8 GB LPDDR4X...</td>\n",
              "    </tr>\n",
              "    <tr>\n",
              "      <th>...</th>\n",
              "      <td>...</td>\n",
              "      <td>...</td>\n",
              "      <td>...</td>\n",
              "      <td>...</td>\n",
              "      <td>...</td>\n",
              "      <td>...</td>\n",
              "    </tr>\n",
              "    <tr>\n",
              "      <th>75</th>\n",
              "      <td>APPLE MacBook Air M1 - (8 GB/512 GB SSD/Mac OS...</td>\n",
              "      <td>₹1,14,990</td>\n",
              "      <td>Apple M1 Processor8 GB DDR4 RAMMac OS Operatin...</td>\n",
              "      <td>Apple M1 Processor8 GB DDR4 RAMMac OS Operatin...</td>\n",
              "      <td>Apple M1 Processor8 GB DDR4 RAMMac OS Operatin...</td>\n",
              "      <td>Apple M1 Processor8 GB DDR4 RAMMac OS Operatin...</td>\n",
              "    </tr>\n",
              "    <tr>\n",
              "      <th>76</th>\n",
              "      <td>APPLE MacBook Air Core i5 10th Gen - (8 GB/256...</td>\n",
              "      <td>₹92,990</td>\n",
              "      <td>Intel Core i5 Processor (10th Gen)8 GB LPDDR4X...</td>\n",
              "      <td>Intel Core i5 Processor (10th Gen)8 GB LPDDR4X...</td>\n",
              "      <td>Intel Core i5 Processor (10th Gen)8 GB LPDDR4X...</td>\n",
              "      <td>Intel Core i5 Processor (10th Gen)8 GB LPDDR4X...</td>\n",
              "    </tr>\n",
              "    <tr>\n",
              "      <th>77</th>\n",
              "      <td>APPLE MacBook Air Core i5 10th Gen - (8 GB/512...</td>\n",
              "      <td>₹99,990</td>\n",
              "      <td>Intel Core i5 Processor (10th Gen)8 GB LPDDR4X...</td>\n",
              "      <td>Intel Core i5 Processor (10th Gen)8 GB LPDDR4X...</td>\n",
              "      <td>Intel Core i5 Processor (10th Gen)8 GB LPDDR4X...</td>\n",
              "      <td>Intel Core i5 Processor (10th Gen)8 GB LPDDR4X...</td>\n",
              "    </tr>\n",
              "    <tr>\n",
              "      <th>78</th>\n",
              "      <td>APPLE MacBook Air M1 - (8 GB/512 GB SSD/Mac OS...</td>\n",
              "      <td>₹1,14,990</td>\n",
              "      <td>Apple M1 Processor8 GB DDR4 RAMMac OS Operatin...</td>\n",
              "      <td>Apple M1 Processor8 GB DDR4 RAMMac OS Operatin...</td>\n",
              "      <td>Apple M1 Processor8 GB DDR4 RAMMac OS Operatin...</td>\n",
              "      <td>Apple M1 Processor8 GB DDR4 RAMMac OS Operatin...</td>\n",
              "    </tr>\n",
              "    <tr>\n",
              "      <th>79</th>\n",
              "      <td>APPLE MacBook Air Core i5 10th Gen - (8 GB/512...</td>\n",
              "      <td>₹1,09,990</td>\n",
              "      <td>Intel Core i5 Processor (10th Gen)8 GB LPDDR4X...</td>\n",
              "      <td>Intel Core i5 Processor (10th Gen)8 GB LPDDR4X...</td>\n",
              "      <td>Intel Core i5 Processor (10th Gen)8 GB LPDDR4X...</td>\n",
              "      <td>Intel Core i5 Processor (10th Gen)8 GB LPDDR4X...</td>\n",
              "    </tr>\n",
              "  </tbody>\n",
              "</table>\n",
              "<p>80 rows × 6 columns</p>\n",
              "</div>"
            ],
            "text/plain": [
              "                                          Laptop Name  ...                                                SSD\n",
              "0   APPLE MacBook Air M1 - (8 GB/256 GB SSD/Mac OS...  ...  Apple M1 Processor8 GB DDR4 RAMMac OS Operatin...\n",
              "1   APPLE MacBook Air M1 - (8 GB/256 GB SSD/Mac OS...  ...  Apple M1 Processor8 GB DDR4 RAMMac OS Operatin...\n",
              "2   APPLE MacBook Air M1 - (8 GB/512 GB SSD/Mac OS...  ...  Apple M1 Processor8 GB DDR4 RAMMac OS Operatin...\n",
              "3   APPLE MacBook Air M1 - (8 GB/512 GB SSD/Mac OS...  ...  Apple M1 Processor8 GB DDR4 RAMMac OS Operatin...\n",
              "4   APPLE MacBook Air Core i5 10th Gen - (8 GB/256...  ...  Intel Core i5 Processor (10th Gen)8 GB LPDDR4X...\n",
              "..                                                ...  ...                                                ...\n",
              "75  APPLE MacBook Air M1 - (8 GB/512 GB SSD/Mac OS...  ...  Apple M1 Processor8 GB DDR4 RAMMac OS Operatin...\n",
              "76  APPLE MacBook Air Core i5 10th Gen - (8 GB/256...  ...  Intel Core i5 Processor (10th Gen)8 GB LPDDR4X...\n",
              "77  APPLE MacBook Air Core i5 10th Gen - (8 GB/512...  ...  Intel Core i5 Processor (10th Gen)8 GB LPDDR4X...\n",
              "78  APPLE MacBook Air M1 - (8 GB/512 GB SSD/Mac OS...  ...  Apple M1 Processor8 GB DDR4 RAMMac OS Operatin...\n",
              "79  APPLE MacBook Air Core i5 10th Gen - (8 GB/512...  ...  Intel Core i5 Processor (10th Gen)8 GB LPDDR4X...\n",
              "\n",
              "[80 rows x 6 columns]"
            ]
          },
          "metadata": {
            "tags": []
          },
          "execution_count": 67
        }
      ]
    },
    {
      "cell_type": "code",
      "metadata": {
        "id": "RBKtiWPD7Geu"
      },
      "source": [
        "data.to_csv('laptopm_data.csv',index=False)"
      ],
      "execution_count": null,
      "outputs": []
    }
  ]
}